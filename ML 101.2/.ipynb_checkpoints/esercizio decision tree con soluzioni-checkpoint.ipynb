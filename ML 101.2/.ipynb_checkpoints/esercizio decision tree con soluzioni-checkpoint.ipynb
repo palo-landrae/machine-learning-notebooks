{
 "cells": [
  {
   "cell_type": "markdown",
   "metadata": {},
   "source": [
    "# Esercizio"
   ]
  },
  {
   "cell_type": "markdown",
   "metadata": {},
   "source": [
    "Data Set Information:\n",
    "\n",
    "I dati sono stati estratti da immagini prese da esemplari autentici e falsificati di banconote. Per la digitalizzazione è stata utilizzata una telecamera industriale solitamente utilizzata per l'ispezione delle stampe. Le immagini finali hanno una risoluzione di 400x400 pixel. Grazie all'obiettivo dell'oggetto e alla distanza dall'oggetto indagato sono state ottenute immagini in scala di grigi con una risoluzione di circa 660 dpi. Per estrarre le caratteristiche dalle immagini è stato utilizzato lo strumento Wavelet Transform.\n",
    "\n",
    "Attribute Information:\n",
    "\n",
    "1. varianza dell'immagine trasformata (variabile continua)\n",
    "2. asimmetria dell'immagine trasformata (variabile continua)\n",
    "3. curtosi dell'immagine trasformata (variabile continua)\n",
    "4. entropia dell'immagine (variabile continua)\n",
    "5. classe (variabile intera: 0 la banconota è autentica, 1 la banconota è falsa)\n",
    "\n",
    "Utilizzare il metodo di classificazione decision tree per determinare se la seguente banconota è vera o è falsa:"
   ]
  },
  {
   "cell_type": "code",
   "execution_count": 5,
   "metadata": {},
   "outputs": [
    {
     "name": "stdout",
     "output_type": "stream",
     "text": [
      "           Variance    Skewness    Curtosis    Entropy\n",
      "-------  ----------  ----------  ----------  ---------\n",
      "-3.0866     -6.6362     10.5405    -0.89182          1\n"
     ]
    }
   ],
   "source": [
    "from tabulate import tabulate\n",
    "\n",
    "info = ['Variance', 'Skewness', 'Curtosis', 'Entropy']\n",
    "daScoprire = [-3.0866, -6.6362, 10.5405, -0.89182] \n",
    "print(tabulate([daScoprire], headers=info))"
   ]
  },
  {
   "cell_type": "code",
   "execution_count": 6,
   "metadata": {},
   "outputs": [],
   "source": [
    "# importiamo Pandas e il datafarame dal file data/bill.csv\n",
    "import pandas as pd\n",
    "df = pd.read_csv('data/bills.csv')"
   ]
  },
  {
   "cell_type": "code",
   "execution_count": 7,
   "metadata": {},
   "outputs": [
    {
     "data": {
      "text/html": [
       "<div>\n",
       "<style scoped>\n",
       "    .dataframe tbody tr th:only-of-type {\n",
       "        vertical-align: middle;\n",
       "    }\n",
       "\n",
       "    .dataframe tbody tr th {\n",
       "        vertical-align: top;\n",
       "    }\n",
       "\n",
       "    .dataframe thead th {\n",
       "        text-align: right;\n",
       "    }\n",
       "</style>\n",
       "<table border=\"1\" class=\"dataframe\">\n",
       "  <thead>\n",
       "    <tr style=\"text-align: right;\">\n",
       "      <th></th>\n",
       "      <th>Variance</th>\n",
       "      <th>Skewness</th>\n",
       "      <th>Curtosis</th>\n",
       "      <th>Entropy</th>\n",
       "      <th>Class</th>\n",
       "    </tr>\n",
       "  </thead>\n",
       "  <tbody>\n",
       "    <tr>\n",
       "      <th>0</th>\n",
       "      <td>3.62160</td>\n",
       "      <td>8.66610</td>\n",
       "      <td>-2.8073</td>\n",
       "      <td>-0.44699</td>\n",
       "      <td>0</td>\n",
       "    </tr>\n",
       "    <tr>\n",
       "      <th>1</th>\n",
       "      <td>4.54590</td>\n",
       "      <td>8.16740</td>\n",
       "      <td>-2.4586</td>\n",
       "      <td>-1.46210</td>\n",
       "      <td>0</td>\n",
       "    </tr>\n",
       "    <tr>\n",
       "      <th>2</th>\n",
       "      <td>3.86600</td>\n",
       "      <td>-2.63830</td>\n",
       "      <td>1.9242</td>\n",
       "      <td>0.10645</td>\n",
       "      <td>0</td>\n",
       "    </tr>\n",
       "    <tr>\n",
       "      <th>3</th>\n",
       "      <td>3.45660</td>\n",
       "      <td>9.52280</td>\n",
       "      <td>-4.0112</td>\n",
       "      <td>-3.59440</td>\n",
       "      <td>0</td>\n",
       "    </tr>\n",
       "    <tr>\n",
       "      <th>4</th>\n",
       "      <td>0.32924</td>\n",
       "      <td>-4.45520</td>\n",
       "      <td>4.5718</td>\n",
       "      <td>-0.98880</td>\n",
       "      <td>0</td>\n",
       "    </tr>\n",
       "    <tr>\n",
       "      <th>...</th>\n",
       "      <td>...</td>\n",
       "      <td>...</td>\n",
       "      <td>...</td>\n",
       "      <td>...</td>\n",
       "      <td>...</td>\n",
       "    </tr>\n",
       "    <tr>\n",
       "      <th>1367</th>\n",
       "      <td>0.40614</td>\n",
       "      <td>1.34920</td>\n",
       "      <td>-1.4501</td>\n",
       "      <td>-0.55949</td>\n",
       "      <td>1</td>\n",
       "    </tr>\n",
       "    <tr>\n",
       "      <th>1368</th>\n",
       "      <td>-1.38870</td>\n",
       "      <td>-4.87730</td>\n",
       "      <td>6.4774</td>\n",
       "      <td>0.34179</td>\n",
       "      <td>1</td>\n",
       "    </tr>\n",
       "    <tr>\n",
       "      <th>1369</th>\n",
       "      <td>-3.75030</td>\n",
       "      <td>-13.45860</td>\n",
       "      <td>17.5932</td>\n",
       "      <td>-2.77710</td>\n",
       "      <td>1</td>\n",
       "    </tr>\n",
       "    <tr>\n",
       "      <th>1370</th>\n",
       "      <td>-3.56370</td>\n",
       "      <td>-8.38270</td>\n",
       "      <td>12.3930</td>\n",
       "      <td>-1.28230</td>\n",
       "      <td>1</td>\n",
       "    </tr>\n",
       "    <tr>\n",
       "      <th>1371</th>\n",
       "      <td>-2.54190</td>\n",
       "      <td>-0.65804</td>\n",
       "      <td>2.6842</td>\n",
       "      <td>1.19520</td>\n",
       "      <td>1</td>\n",
       "    </tr>\n",
       "  </tbody>\n",
       "</table>\n",
       "<p>1372 rows × 5 columns</p>\n",
       "</div>"
      ],
      "text/plain": [
       "      Variance  Skewness  Curtosis  Entropy  Class\n",
       "0      3.62160   8.66610   -2.8073 -0.44699      0\n",
       "1      4.54590   8.16740   -2.4586 -1.46210      0\n",
       "2      3.86600  -2.63830    1.9242  0.10645      0\n",
       "3      3.45660   9.52280   -4.0112 -3.59440      0\n",
       "4      0.32924  -4.45520    4.5718 -0.98880      0\n",
       "...        ...       ...       ...      ...    ...\n",
       "1367   0.40614   1.34920   -1.4501 -0.55949      1\n",
       "1368  -1.38870  -4.87730    6.4774  0.34179      1\n",
       "1369  -3.75030 -13.45860   17.5932 -2.77710      1\n",
       "1370  -3.56370  -8.38270   12.3930 -1.28230      1\n",
       "1371  -2.54190  -0.65804    2.6842  1.19520      1\n",
       "\n",
       "[1372 rows x 5 columns]"
      ]
     },
     "execution_count": 7,
     "metadata": {},
     "output_type": "execute_result"
    }
   ],
   "source": [
    "# visualizziamo il dataframe\n",
    "df"
   ]
  },
  {
   "cell_type": "code",
   "execution_count": 8,
   "metadata": {},
   "outputs": [
    {
     "name": "stdout",
     "output_type": "stream",
     "text": [
      "Class\n",
      "0    762\n",
      "1    610\n",
      "dtype: int64\n"
     ]
    }
   ],
   "source": [
    "# visualizziamo il numero di banconote per ogni classe\n",
    "print(df.groupby('Class').size())"
   ]
  },
  {
   "cell_type": "code",
   "execution_count": 10,
   "metadata": {},
   "outputs": [
    {
     "data": {
      "image/png": "[encoded data removed]",
      "text/plain": [
       "<Figure size 432x288 with 1 Axes>"
      ]
     },
     "metadata": {
      "needs_background": "light"
     },
     "output_type": "display_data"
    }
   ],
   "source": [
    "# per maggior chiarezza, visualizziamo anche il grafico delle classi delle banconote\n",
    "%matplotlib inline\n",
    "import seaborn as sns\n",
    "import matplotlib.pyplot as plt\n",
    "\n",
    "\n",
    "sns.countplot(x=\"Class\", data=df)\n",
    "plt.title(\"Bills Dataset\")\n",
    "plt.xlabel(\"Classes\")\n",
    "plt.ylabel(\"Counts\")\n",
    "plt.show()"
   ]
  },
  {
   "cell_type": "code",
   "execution_count": 11,
   "metadata": {},
   "outputs": [],
   "source": [
    "# traformiamo il dataframe in una matrice numpy e separiamo il target (la classe, ultima colonna, che chiamiamo y)\n",
    "# dal resto dei dati (le osservazioni, che chiameremo x)\n",
    "\n",
    "import numpy as np\n",
    "\n",
    "dfData = df.to_numpy()\n",
    "x=dfData[:,:4] \n",
    "y=dfData[:,-1] "
   ]
  },
  {
   "cell_type": "code",
   "execution_count": 12,
   "metadata": {},
   "outputs": [
    {
     "name": "stdout",
     "output_type": "stream",
     "text": [
      "[[ 3.6216   8.6661  -2.8073  -0.44699]\n",
      " [ 4.5459   8.1674  -2.4586  -1.4621 ]\n",
      " [ 3.866   -2.6383   1.9242   0.10645]\n",
      " [ 3.4566   9.5228  -4.0112  -3.5944 ]\n",
      " [ 0.32924 -4.4552   4.5718  -0.9888 ]\n",
      " [ 4.3684   9.6718  -3.9606  -3.1625 ]\n",
      " [ 3.5912   3.0129   0.72888  0.56421]\n",
      " [ 2.0922  -6.81     8.4636  -0.60216]\n",
      " [ 3.2032   5.7588  -0.75345 -0.61251]\n",
      " [ 1.5356   9.1772  -2.2718  -0.73535]]\n",
      "y = [0. 0. 0. 0. 0. 0. 0. 0. 0. 0.]\n"
     ]
    }
   ],
   "source": [
    "# vediamo i dati presenti in x e y\n",
    "print(x[:10])\n",
    "print(f'y = {y[:10]}')"
   ]
  },
  {
   "cell_type": "code",
   "execution_count": 13,
   "metadata": {},
   "outputs": [
    {
     "data": {
      "text/plain": [
       "Counter({0.0: 762, 1.0: 610})"
      ]
     },
     "execution_count": 13,
     "metadata": {},
     "output_type": "execute_result"
    }
   ],
   "source": [
    "# ora contiamo le classi che sono presenti nella y per vedere se corrispondono a quanto trovato nel dataframe\n",
    "import collections\n",
    "collections.Counter(y)"
   ]
  },
  {
   "cell_type": "code",
   "execution_count": 14,
   "metadata": {},
   "outputs": [],
   "source": [
    "#suddividiamo ora i dati in due dataset, uno per 'allenare' il metodo (training set) \n",
    "# e l'altro per testarne l'efficacia (test set). Facciamo in modo che il training set sia il 75% del totale\n",
    "\n",
    "from sklearn.model_selection import train_test_split # suddivide le osservazioni nei due insiemi\n",
    "\n",
    "X_train, X_test, y_train, y_test = train_test_split(x, y, \n",
    "                                                    test_size = 0.25, # by default is 75%-25%\n",
    "                                                    # shuffle is set True by default,\n",
    "                                                    stratify = y, # per mantenere le proporzioni che ci sono nei dati di partenza\n",
    "                                                    random_state = 123) # fix random seed for replicability"
   ]
  },
  {
   "cell_type": "code",
   "execution_count": 15,
   "metadata": {},
   "outputs": [
    {
     "data": {
      "text/plain": [
       "((1029, 4), (1029,), (343, 4), (343,))"
      ]
     },
     "execution_count": 15,
     "metadata": {},
     "output_type": "execute_result"
    }
   ],
   "source": [
    "# visualizziamo gli shape dei vari dataset X_train, X_test, y_train e y_test\n",
    "X_train.shape,y_train.shape,X_test.shape,y_test.shape"
   ]
  },
  {
   "cell_type": "code",
   "execution_count": 16,
   "metadata": {},
   "outputs": [
    {
     "name": "stdout",
     "output_type": "stream",
     "text": [
      "[[  0.16358  -3.3584    1.3749    1.3569 ]\n",
      " [  3.5156   10.1891   -4.2759   -4.978  ]\n",
      " [  1.8993    7.6625    0.15394  -3.1108 ]\n",
      " [  2.2517   -5.1422    4.2916   -1.2487 ]\n",
      " [ -1.7713  -10.7665   10.2184   -1.0043 ]\n",
      " [  3.6244    1.4609    1.3501    1.9284 ]\n",
      " [  2.6606    3.1681    1.9619    0.18662]\n",
      " [  4.9264    5.496    -2.4774   -0.50648]\n",
      " [ -2.7611  -10.5099    9.0239   -1.9547 ]\n",
      " [  4.5597   -2.4211    2.6413    1.6168 ]]\n",
      "y_train = [1. 0. 0. 0. 1. 0. 0. 0. 1. 0.]\n"
     ]
    }
   ],
   "source": [
    "# visualizziamo anche le prime 10 righe dell'X_train e dell'y_train per vedere i dati\n",
    "# eliminiamo la notazione scientifica per comodità di lettura\n",
    "np.set_printoptions(suppress=True)\n",
    "print(X_train[:10])\n",
    "print(f'y_train = {y_train[:10]}')"
   ]
  },
  {
   "cell_type": "code",
   "execution_count": 17,
   "metadata": {},
   "outputs": [],
   "source": [
    "# importiamo il metodo di classificazione decision tree\n",
    "from sklearn import tree"
   ]
  },
  {
   "cell_type": "code",
   "execution_count": 18,
   "metadata": {},
   "outputs": [],
   "source": [
    "# inizializziamo il metodo con i seguenti parametri:\n",
    "# criterio: indice di Gini\n",
    "# profondità massima dell'albero: 8\n",
    "# dimensione minima per lo split: 25\n",
    "# numero di campioni delle foglie: 10\n",
    "\n",
    "tree_clf = tree.DecisionTreeClassifier(criterion=\"gini\", # criteri per stabilire come splittare\n",
    "                                       max_depth=4, # profondità dell'albero per evitare l'overfitting\n",
    "                                       min_samples_split=30, # dimensione minima del sottogruppo a cui fermarsi (no more split)\n",
    "                                       max_leaf_nodes=6, # numero dei nodi foglia\n",
    "                                       min_samples_leaf=4 # numero di campioni per essere una foglia\n",
    "                                      )"
   ]
  },
  {
   "cell_type": "code",
   "execution_count": 20,
   "metadata": {},
   "outputs": [
    {
     "data": {
      "text/plain": [
       "DecisionTreeClassifier(ccp_alpha=0.0, class_weight=None, criterion='gini',\n",
       "                       max_depth=4, max_features=None, max_leaf_nodes=6,\n",
       "                       min_impurity_decrease=0.0, min_impurity_split=None,\n",
       "                       min_samples_leaf=4, min_samples_split=30,\n",
       "                       min_weight_fraction_leaf=0.0, presort='deprecated',\n",
       "                       random_state=None, splitter='best')"
      ]
     },
     "execution_count": 20,
     "metadata": {},
     "output_type": "execute_result"
    }
   ],
   "source": [
    "# \"alleniamo\" il metodo con i dati del training set\n",
    "tree_clf.fit(X_train, y_train) "
   ]
  },
  {
   "cell_type": "code",
   "execution_count": 21,
   "metadata": {},
   "outputs": [],
   "source": [
    "# proviamo a fare una previsione sui dati del test set\n",
    "predict = tree_clf.predict(X_test) "
   ]
  },
  {
   "cell_type": "code",
   "execution_count": 22,
   "metadata": {},
   "outputs": [
    {
     "name": "stdout",
     "output_type": "stream",
     "text": [
      "dati predetti dal metodo =                [1. 0. 1. 1. 1. 0. 1. 0. 0. 0.]\n",
      "dati reali presenti nel dataset di test = [0. 0. 1. 1. 1. 0. 1. 0. 0. 1.]\n"
     ]
    }
   ],
   "source": [
    "# e visualizziamo il risultato (solo i primi dieci vini)\n",
    "print(f'dati predetti dal metodo =                {predict[:10]}') # dati predetti dal metodo\n",
    "print(f'dati reali presenti nel dataset di test = {y_test[:10]}') # dati effettivi presenti nel test set"
   ]
  },
  {
   "cell_type": "code",
   "execution_count": 23,
   "metadata": {},
   "outputs": [
    {
     "data": {
      "image/png": "[encoded data removed]",
      "text/plain": [
       "<Figure size 432x288 with 1 Axes>"
      ]
     },
     "metadata": {
      "needs_background": "light"
     },
     "output_type": "display_data"
    }
   ],
   "source": [
    "# valutiamo il nostro metodo:\n",
    "\n",
    "# visualizziamo la confusion matrix\n",
    "from mlxtend.plotting import plot_confusion_matrix\n",
    "from matplotlib import pyplot as plt\n",
    "from sklearn.metrics import confusion_matrix, classification_report\n",
    "\n",
    "plot_confusion_matrix(confusion_matrix(y_test, predict), cmap=plt.cm.Reds)\n",
    "plt.show()"
   ]
  },
  {
   "cell_type": "code",
   "execution_count": 24,
   "metadata": {},
   "outputs": [],
   "source": [
    "# quanto valgono TP, FP, FN e TN?\n",
    "# TP =\n",
    "# FP =\n",
    "# FN =\n",
    "# TN ="
   ]
  },
  {
   "cell_type": "code",
   "execution_count": 25,
   "metadata": {},
   "outputs": [],
   "source": [
    "# sulla base della confusion matrix, cosa possiamo dire di questo metodo? Motivare la risposta\n",
    "# risposta:"
   ]
  },
  {
   "cell_type": "code",
   "execution_count": 31,
   "metadata": {},
   "outputs": [
    {
     "name": "stdout",
     "output_type": "stream",
     "text": [
      "              precision    recall  f1-score   support\n",
      "\n",
      "         0.0       0.92      0.94      0.93       191\n",
      "         1.0       0.93      0.90      0.91       152\n",
      "\n",
      "    accuracy                           0.92       343\n",
      "   macro avg       0.92      0.92      0.92       343\n",
      "weighted avg       0.92      0.92      0.92       343\n",
      "\n"
     ]
    }
   ],
   "source": [
    "# visualizziamo ora gli indicatori classici:\n",
    "print(classification_report(y_test, predict))"
   ]
  },
  {
   "cell_type": "code",
   "execution_count": 27,
   "metadata": {},
   "outputs": [],
   "source": [
    "# sulla base degli indicatori, che cosa possiamo dire del nostro metodo? Motivare la risposta\n",
    "# risposta:"
   ]
  },
  {
   "cell_type": "code",
   "execution_count": 29,
   "metadata": {},
   "outputs": [
    {
     "data": {
      "text/plain": [
       "array([1.])"
      ]
     },
     "execution_count": 29,
     "metadata": {},
     "output_type": "execute_result"
    }
   ],
   "source": [
    "# proviamo a determinare adesso se la banconota \n",
    "# di cui abbiamo avuto le caratteristiche all'inizio dell'esercizio è vera o è falsa:\n",
    "\n",
    "daScoprire = [[-3.0866, -6.6362, 10.5405, -0.89182] ]\n",
    "predictDaScoprire = tree_clf.predict(daScoprire)\n",
    "predictDaScoprire"
   ]
  },
  {
   "cell_type": "code",
   "execution_count": 24,
   "metadata": {},
   "outputs": [],
   "source": [
    "# la banconota è vera o falsa?\n",
    "# risposta:"
   ]
  },
  {
   "cell_type": "code",
   "execution_count": 30,
   "metadata": {},
   "outputs": [
    {
     "name": "stdout",
     "output_type": "stream",
     "text": [
      "     Variance  Skewness  Curtosis  Entropy  Class\n",
      "998   -3.0866   -6.6362   10.5405 -0.89182      1\n"
     ]
    }
   ],
   "source": [
    "# la banconota che abbiamo testato in realtà è una di quelle giè presenti nel dataset. \n",
    "# Provate ad andare a vedere nel dataframe Pandas se la predizione del metodo è corretta o meno\n",
    "# cercando alcune caratteristiche delòa nostra banconota, ad esempio 'Variance' = -3.0866, 'Skewness' = -6.6362 e\n",
    "# 'Curtosis' = 10.5405\n",
    "print(df[(df['Variance'] == -3.0866) & (df['Skewness'] == -6.6362) & (df['Curtosis'] == 10.5405)])"
   ]
  },
  {
   "cell_type": "code",
   "execution_count": 26,
   "metadata": {},
   "outputs": [],
   "source": [
    "# il metodo ha predetto correttamente il risultato?\n",
    "# risposta:"
   ]
  }
 ],
 "metadata": {
  "kernelspec": {
   "display_name": "Python 3",
   "language": "python",
   "name": "python3"
  },
  "language_info": {
   "codemirror_mode": {
    "name": "ipython",
    "version": 3
   },
   "file_extension": ".py",
   "mimetype": "text/x-python",
   "name": "python",
   "nbconvert_exporter": "python",
   "pygments_lexer": "ipython3",
   "version": "3.7.6"
  }
 },
 "nbformat": 4,
 "nbformat_minor": 4
}
