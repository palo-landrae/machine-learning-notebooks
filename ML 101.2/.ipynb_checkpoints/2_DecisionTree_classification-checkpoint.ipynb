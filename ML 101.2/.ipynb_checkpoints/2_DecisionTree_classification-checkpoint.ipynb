{
 "cells": [
  {
   "cell_type": "markdown",
   "metadata": {},
   "source": [
    "# Run your second classifier with Python: a Decision Tree"
   ]
  },
  {
   "cell_type": "markdown",
   "metadata": {},
   "source": [
    "# Import data"
   ]
  },
  {
   "cell_type": "code",
   "execution_count": 1,
   "metadata": {},
   "outputs": [
    {
     "data": {
      "text/html": [
       "<div>\n",
       "<style scoped>\n",
       "    .dataframe tbody tr th:only-of-type {\n",
       "        vertical-align: middle;\n",
       "    }\n",
       "\n",
       "    .dataframe tbody tr th {\n",
       "        vertical-align: top;\n",
       "    }\n",
       "\n",
       "    .dataframe thead th {\n",
       "        text-align: right;\n",
       "    }\n",
       "</style>\n",
       "<table border=\"1\" class=\"dataframe\">\n",
       "  <thead>\n",
       "    <tr style=\"text-align: right;\">\n",
       "      <th></th>\n",
       "      <th>timespreg</th>\n",
       "      <th>gluctol</th>\n",
       "      <th>diaspb</th>\n",
       "      <th>triceps</th>\n",
       "      <th>insulin</th>\n",
       "      <th>massindex</th>\n",
       "      <th>pedigree</th>\n",
       "      <th>age</th>\n",
       "      <th>target</th>\n",
       "    </tr>\n",
       "  </thead>\n",
       "  <tbody>\n",
       "    <tr>\n",
       "      <th>0</th>\n",
       "      <td>6</td>\n",
       "      <td>148</td>\n",
       "      <td>72</td>\n",
       "      <td>35</td>\n",
       "      <td>0</td>\n",
       "      <td>33.6</td>\n",
       "      <td>0.627</td>\n",
       "      <td>50</td>\n",
       "      <td>1</td>\n",
       "    </tr>\n",
       "    <tr>\n",
       "      <th>1</th>\n",
       "      <td>1</td>\n",
       "      <td>85</td>\n",
       "      <td>66</td>\n",
       "      <td>29</td>\n",
       "      <td>0</td>\n",
       "      <td>26.6</td>\n",
       "      <td>0.351</td>\n",
       "      <td>31</td>\n",
       "      <td>0</td>\n",
       "    </tr>\n",
       "    <tr>\n",
       "      <th>2</th>\n",
       "      <td>8</td>\n",
       "      <td>183</td>\n",
       "      <td>64</td>\n",
       "      <td>0</td>\n",
       "      <td>0</td>\n",
       "      <td>23.3</td>\n",
       "      <td>0.672</td>\n",
       "      <td>32</td>\n",
       "      <td>1</td>\n",
       "    </tr>\n",
       "    <tr>\n",
       "      <th>3</th>\n",
       "      <td>1</td>\n",
       "      <td>89</td>\n",
       "      <td>66</td>\n",
       "      <td>23</td>\n",
       "      <td>94</td>\n",
       "      <td>28.1</td>\n",
       "      <td>0.167</td>\n",
       "      <td>21</td>\n",
       "      <td>0</td>\n",
       "    </tr>\n",
       "    <tr>\n",
       "      <th>4</th>\n",
       "      <td>0</td>\n",
       "      <td>137</td>\n",
       "      <td>40</td>\n",
       "      <td>35</td>\n",
       "      <td>168</td>\n",
       "      <td>43.1</td>\n",
       "      <td>2.288</td>\n",
       "      <td>33</td>\n",
       "      <td>1</td>\n",
       "    </tr>\n",
       "    <tr>\n",
       "      <th>...</th>\n",
       "      <td>...</td>\n",
       "      <td>...</td>\n",
       "      <td>...</td>\n",
       "      <td>...</td>\n",
       "      <td>...</td>\n",
       "      <td>...</td>\n",
       "      <td>...</td>\n",
       "      <td>...</td>\n",
       "      <td>...</td>\n",
       "    </tr>\n",
       "    <tr>\n",
       "      <th>763</th>\n",
       "      <td>10</td>\n",
       "      <td>101</td>\n",
       "      <td>76</td>\n",
       "      <td>48</td>\n",
       "      <td>180</td>\n",
       "      <td>32.9</td>\n",
       "      <td>0.171</td>\n",
       "      <td>63</td>\n",
       "      <td>0</td>\n",
       "    </tr>\n",
       "    <tr>\n",
       "      <th>764</th>\n",
       "      <td>2</td>\n",
       "      <td>122</td>\n",
       "      <td>70</td>\n",
       "      <td>27</td>\n",
       "      <td>0</td>\n",
       "      <td>36.8</td>\n",
       "      <td>0.340</td>\n",
       "      <td>27</td>\n",
       "      <td>0</td>\n",
       "    </tr>\n",
       "    <tr>\n",
       "      <th>765</th>\n",
       "      <td>5</td>\n",
       "      <td>121</td>\n",
       "      <td>72</td>\n",
       "      <td>23</td>\n",
       "      <td>112</td>\n",
       "      <td>26.2</td>\n",
       "      <td>0.245</td>\n",
       "      <td>30</td>\n",
       "      <td>0</td>\n",
       "    </tr>\n",
       "    <tr>\n",
       "      <th>766</th>\n",
       "      <td>1</td>\n",
       "      <td>126</td>\n",
       "      <td>60</td>\n",
       "      <td>0</td>\n",
       "      <td>0</td>\n",
       "      <td>30.1</td>\n",
       "      <td>0.349</td>\n",
       "      <td>47</td>\n",
       "      <td>1</td>\n",
       "    </tr>\n",
       "    <tr>\n",
       "      <th>767</th>\n",
       "      <td>1</td>\n",
       "      <td>93</td>\n",
       "      <td>70</td>\n",
       "      <td>31</td>\n",
       "      <td>0</td>\n",
       "      <td>30.4</td>\n",
       "      <td>0.315</td>\n",
       "      <td>23</td>\n",
       "      <td>0</td>\n",
       "    </tr>\n",
       "  </tbody>\n",
       "</table>\n",
       "<p>768 rows × 9 columns</p>\n",
       "</div>"
      ],
      "text/plain": [
       "     timespreg  gluctol  diaspb  triceps  insulin  massindex  pedigree  age  \\\n",
       "0            6      148      72       35        0       33.6     0.627   50   \n",
       "1            1       85      66       29        0       26.6     0.351   31   \n",
       "2            8      183      64        0        0       23.3     0.672   32   \n",
       "3            1       89      66       23       94       28.1     0.167   21   \n",
       "4            0      137      40       35      168       43.1     2.288   33   \n",
       "..         ...      ...     ...      ...      ...        ...       ...  ...   \n",
       "763         10      101      76       48      180       32.9     0.171   63   \n",
       "764          2      122      70       27        0       36.8     0.340   27   \n",
       "765          5      121      72       23      112       26.2     0.245   30   \n",
       "766          1      126      60        0        0       30.1     0.349   47   \n",
       "767          1       93      70       31        0       30.4     0.315   23   \n",
       "\n",
       "     target  \n",
       "0         1  \n",
       "1         0  \n",
       "2         1  \n",
       "3         0  \n",
       "4         1  \n",
       "..      ...  \n",
       "763       0  \n",
       "764       0  \n",
       "765       0  \n",
       "766       1  \n",
       "767       0  \n",
       "\n",
       "[768 rows x 9 columns]"
      ]
     },
     "execution_count": 1,
     "metadata": {},
     "output_type": "execute_result"
    }
   ],
   "source": [
    "import pandas as pd\n",
    "\n",
    "#import the dataset\n",
    "df = pd.read_csv('data/diabetes.txt')\n",
    "df"
   ]
  },
  {
   "cell_type": "code",
   "execution_count": 2,
   "metadata": {},
   "outputs": [],
   "source": [
    "import numpy as np\n",
    "\n",
    "dfnp = df.to_numpy()\n",
    "x=dfnp[:,0:-1] # prendiamo tutti i dati tranne l'ultima colonna -> variabili indipendenti, osservazioni\n",
    "y=dfnp[:,-1] # prendiamo solo l'ultima colonna -> variabile dipendente, target"
   ]
  },
  {
   "cell_type": "markdown",
   "metadata": {},
   "source": [
    "# split data into training/test set"
   ]
  },
  {
   "cell_type": "code",
   "execution_count": 3,
   "metadata": {},
   "outputs": [],
   "source": [
    "from sklearn.model_selection import train_test_split\n",
    "\n",
    "X_train, X_test, y_train, y_test = train_test_split(x, y, \n",
    "                                                    test_size =0.33, #by default is 75%-25%\n",
    "                                                    #shuffle is set True by default,\n",
    "                                                    stratify=y,\n",
    "                                                    random_state= 123) #fix random seed for replicability"
   ]
  },
  {
   "cell_type": "code",
   "execution_count": 4,
   "metadata": {},
   "outputs": [
    {
     "data": {
      "text/plain": [
       "((514, 8), (514,), (254, 8), (254,))"
      ]
     },
     "execution_count": 4,
     "metadata": {},
     "output_type": "execute_result"
    }
   ],
   "source": [
    "X_train.shape,y_train.shape,X_test.shape,y_test.shape"
   ]
  },
  {
   "cell_type": "markdown",
   "metadata": {},
   "source": [
    "# Train the classifier"
   ]
  },
  {
   "cell_type": "markdown",
   "metadata": {},
   "source": [
    "<img src=\"Images/decision tree.png\" width=\"600\" align=\"left\">\n",
    "<img src=\"Images/decision tree 2.png\" width=\"600\" align=\"left\">\n",
    "\n",
    "Questa volta proviamo a classificare i nostri diabetici utilizzando un altro metodo, cioè un altro classificatore: il decision tree. Possiamo vedere come funziona questo classificatore dando un occhio alla figura a fianco. In questo semplice esempio, vogliamo classificare un oggetto, la nostra variabile dipendente _y_, per stabilire (classificare) se è un cerchio o un quadrato. Per fare questo, il classificatore controlla il valore delle due variabili indipendenti _x_: se $$x_1 > w_{10}$$ e $$x_2 > w_{20}$$ allora è un quadrato, altrimenti è un cerchio.\n",
    "Visto così potrebbe sembrare un semplice programma che fa un paio di if. In realtà il metodo deve cercare di trovare i valori delle variabili indipendenti che meglio separano (cioè classificano) il nostro insieme in modo da dover fare meno passaggi possibili ed avere il massimo della correttezza. Potremmo avere infatti situazioni ben più complesse, come nell'esempio a fianco preso da un caso di frodi bancarie. Come vediamo si tratta di classificare molti casi diversi e ongi volta che effettuiamo una scelta, l'insieme si riduce fino ad arrivare ai singoli elementi. Notare che non sempre le classificazioni sono completamente corrette: nell'insieme d3 abbiamo anche qualche cerchio mentre nell'insieme d2 abbiamo un triangolo. Questo ci induce a pensare che il metodo nonriesca a classificare sempre tutti gli elementi in modo corretto e che anche qui, quindi, dovremo parlare di indicatori per valutare la sua bontà.\n",
    "\n",
    "__Ma da quali variabili indipendenti parte il metodo del decision tree per iniziare (e poi continuare) a suddividere i vari elementi in classi?__ Ci sono diverse criteri: noi utilizzeremo il Gini Index (introdotto dallo statistico italiano Corrado Gini per misurare la disuguaglianza in una distribuzione). Il coefficiente di Gini è un numero compreso tra 0 ed 1 ed è spesso usato per valutare se la ricchezza di un paese è distribuita equamente o no. Valori bassi del coefficiente indicano una distribuzione abbastanza omogenea, con il valore 0 che corrisponde alla pura equidistribuzione, ad esempio la situazione in cui tutti percepiscono esattamente lo stesso reddito; valori alti del coefficiente indicano una distribuzione più diseguale, con il valore 1 che corrisponde alla massima concentrazione, ovvero la situazione dove una persona percepisca tutto il reddito del paese mentre tutti gli altri hanno un reddito nullo.\n",
    "Nel caso del decision tree siamo interessati a trovare i valori di una certa variabile indipendente capaci di suddividere gli elementi in classi il più possibili omogenee, cioè con tutti i valori uguali, in modo da dover fare meno suddivisioni ed avere un albero con meno livelli: questo corrisponde a scegliere una variabile che permetta di avere un indice di Gini basso.\n",
    "\n",
    "Altra domanda: __quando ci dobbiamo fermare nella suddivisione (split) di un gruppo in sottogruppi?__ O, in altre parole, quanti livelli deve avere un albero? La risposta potrebbe essere quella di andare avanti ad effettuare le suddivisioni fino a quando non raggiungiamo dei sottoinsiemi finali (foglie) contenenti un solo elemento. Così facendo però il metodo soffrirebbe di __overfitting__, cioè sarebbe troppo ben \"allenato\" su un certo set di dati da non riuscire a fare poi previsioni corrette su altri set di dati.\n",
    "\n",
    "Vediamo ora di applicare il decision tree al caso dei diabetici. Noteremo che il procedimento sarà lo stesso di quello già visto."
   ]
  },
  {
   "cell_type": "code",
   "execution_count": 5,
   "metadata": {},
   "outputs": [
    {
     "name": "stdout",
     "output_type": "stream",
     "text": [
      "dati predetti dal metodo =                [0. 1. 1. 0. 1. 0. 1. 0. 1. 1.]\n",
      "dati reali presenti nel dataset di test = [1. 0. 1. 0. 1. 0. 1. 0. 1. 0.]\n"
     ]
    }
   ],
   "source": [
    "# importiamo il metodo che vogliamo utilizzara (tra i tanti disponibili...)\n",
    "from sklearn import tree\n",
    "\n",
    "# impostiamo i parametri del metodo\n",
    "# https://scikit-learn.org/stable/modules/generated/sklearn.tree.DecisionTreeClassifier.html\n",
    "tree_clf = tree.DecisionTreeClassifier(criterion=\"gini\", # criteri per stabilire come splittare\n",
    "                                       max_depth=4, # profondità dell'albero per evitare l'overfitting\n",
    "                                       min_samples_split=30, # dimensione minima del sottogruppo a cui fermarsi (no more split)\n",
    "                                       max_leaf_nodes=6, # numero dei nodi foglia\n",
    "                                       min_samples_leaf=4 # numero di campioni per essere una foglia\n",
    "                                      )\n",
    "\n",
    "# prima parte: dobbiamo fare in modo che il metodo impari dalle informazioni a disposizione\n",
    "tree_clf.fit(X_train,y_train)\n",
    "\n",
    "# seconda parte: vediamo se il metodo ha imparato bene facendogli prevedere i risultati \n",
    "predict = tree_clf.predict(X_test)\n",
    "\n",
    "# visualizziamo il risultato (solo i primi dieci pazienti)\n",
    "print(f'dati predetti dal metodo =                {predict[:10]}') # dati predetti dal metodo\n",
    "print(f'dati reali presenti nel dataset di test = {y_test[:10]}') # dati effettivi presenti nel test set"
   ]
  },
  {
   "cell_type": "markdown",
   "metadata": {},
   "source": [
    "# Evaluate the results"
   ]
  },
  {
   "cell_type": "markdown",
   "metadata": {},
   "source": [
    "Per valutare il nostro metodo, come abbiamo fatto anche per il K-NN visualizziamo la  \"confusion matrix\""
   ]
  },
  {
   "cell_type": "code",
   "execution_count": 8,
   "metadata": {},
   "outputs": [
    {
     "data": {
      "image/png": "[encoded data removed]",
      "text/plain": [
       "<Figure size 432x288 with 1 Axes>"
      ]
     },
     "metadata": {
      "needs_background": "light"
     },
     "output_type": "display_data"
    }
   ],
   "source": [
    "#plots IMPORTS\n",
    "from mlxtend.plotting import plot_confusion_matrix\n",
    "from matplotlib import pyplot as plt\n",
    "from sklearn.metrics import confusion_matrix, classification_report\n",
    "\n",
    "plot_confusion_matrix(confusion_matrix(y_test, predict))\n",
    "plt.show()"
   ]
  },
  {
   "cell_type": "markdown",
   "metadata": {},
   "source": [
    "Questo metodo è meglio o peggio del K-NN nella classificazione dei diabetici? Confrontiamo le due confusion matrix (a sinistra quella relativa al metodo K-NN a destra quella relativa al metodo del decision tree):\n",
    "\n",
    "<img src=\"Images/confusion matrix diabets.png\" width=\"600\" align=\"left\"><img src=\"Images/cm decision tree.png\" width=\"350\" align=\"right\">\n",
    "\n",
    "Cosa possiamo dire?\n",
    "\n",
    "Visualizziamo anche i report con _accuracy, precision, recall_ ed _f1-score_ :"
   ]
  },
  {
   "cell_type": "code",
   "execution_count": 10,
   "metadata": {},
   "outputs": [
    {
     "name": "stdout",
     "output_type": "stream",
     "text": [
      "              precision    recall  f1-score   support\n",
      "\n",
      "         0.0       0.83      0.78      0.80       165\n",
      "         1.0       0.63      0.71      0.67        89\n",
      "\n",
      "    accuracy                           0.75       254\n",
      "   macro avg       0.73      0.74      0.73       254\n",
      "weighted avg       0.76      0.75      0.75       254\n",
      "\n"
     ]
    }
   ],
   "source": [
    "print(classification_report(y_test, predict))"
   ]
  },
  {
   "cell_type": "markdown",
   "metadata": {},
   "source": [
    "Confrontiamolo con il report del K-NN (a sinistra K-NN, a destra decision tree):\n",
    "\n",
    "<img src=\"Images/report K-NN.png\" width=\"450\" align=\"left\"><img src=\"Images/report decision tree.png\" width=\"450\">\n",
    "\n",
    "Quale metodo è il migliore per il nostro caso di studio?"
   ]
  },
  {
   "cell_type": "markdown",
   "metadata": {},
   "source": [
    "Proviamo ora a fare la previsione per la nostra solita signora Maria:"
   ]
  },
  {
   "cell_type": "code",
   "execution_count": 11,
   "metadata": {},
   "outputs": [
    {
     "data": {
      "text/plain": [
       "array([0.])"
      ]
     },
     "execution_count": 11,
     "metadata": {},
     "output_type": "execute_result"
    }
   ],
   "source": [
    "# previsione per Maria\n",
    "Maria = [[10., 68., 106., 23., 49., 35.5, 0.285, 47.]]\n",
    "predictMaria = tree_clf.predict(Maria)\n",
    "predictMaria"
   ]
  },
  {
   "cell_type": "markdown",
   "metadata": {},
   "source": [
    "La risposta è 0, cioà anche con questo metodo prevediamo che Maria non abbia il diabete. Ma vediamo ora che cosa sarebbe successo se Maria avesse un indice relativo all'insulina di 159 invece che 49:"
   ]
  },
  {
   "cell_type": "code",
   "execution_count": 12,
   "metadata": {},
   "outputs": [
    {
     "data": {
      "text/plain": [
       "array([0.])"
      ]
     },
     "execution_count": 12,
     "metadata": {},
     "output_type": "execute_result"
    }
   ],
   "source": [
    "# nuova previsione per Maria\n",
    "Maria = [[10., 68., 106., 23., 159., 35.5, 0.285, 47.]]\n",
    "predictMaria = tree_clf.predict(Maria)\n",
    "predictMaria"
   ]
  },
  {
   "cell_type": "markdown",
   "metadata": {},
   "source": [
    "La risposta è ancora 0, cioè il metodo dice che Maria, con questi nuovi valori, non avrebbe comunque il diabete. Notare che l'altro metodo (K-NN) ci aveva detto invece che Maria, con questi valori, avrebbe avuto il diabete.\n",
    "\n",
    "Questo fatto ci fa capire quanto sia importante, nel Machine Learning, il \"fattore umano\", cioè la capacità del data analyst di utilizzare in modo appropriato i metodi che le varie librerie mettono a disposizione. \n",
    "\n",
    "Come ultimo aspetto della nostra trattazione, visualizziamo l'abero che è stato generato dal metodo."
   ]
  },
  {
   "cell_type": "code",
   "execution_count": null,
   "metadata": {},
   "outputs": [],
   "source": [
    "# to be run only once, code for the installation of a new library and the related software\n",
    "'''\n",
    "!conda update --force conda\n",
    "!conda install graphviz\n",
    "!conda install python-graphviz\n",
    "'''"
   ]
  },
  {
   "cell_type": "code",
   "execution_count": 13,
   "metadata": {},
   "outputs": [],
   "source": [
    "#to be run every time. Tells your computer where to look for graphviz\n",
    "import os\n",
    "os.environ[\"PATH\"] += os.pathsep + 'C:\\\\Users\\\\wtitz\\\\Anaconda3\\\\Library\\\\bin\\\\graphviz'"
   ]
  },
  {
   "cell_type": "code",
   "execution_count": 17,
   "metadata": {},
   "outputs": [
    {
     "data": {
      "image/svg+xml": [
       "<?xml version=\"1.0\" encoding=\"UTF-8\" standalone=\"no\"?>\r\n",
       "<!DOCTYPE svg PUBLIC \"-//W3C//DTD SVG 1.1//EN\"\r\n",
       " \"http://www.w3.org/Graphics/SVG/1.1/DTD/svg11.dtd\">\r\n",
       "<!-- Generated by graphviz version 2.38.0 (20140413.2041)\r\n",
       " -->\r\n",
       "<!-- Title: Tree Pages: 1 -->\r\n",
       "<svg width=\"533pt\" height=\"552pt\"\r\n",
       " viewBox=\"0.00 0.00 533.00 552.00\" xmlns=\"http://www.w3.org/2000/svg\" xmlns:xlink=\"http://www.w3.org/1999/xlink\">\r\n",
       "<g id=\"graph0\" class=\"graph\" transform=\"scale(1 1) rotate(0) translate(4 548)\">\r\n",
       "<title>Tree</title>\r\n",
       "<polygon fill=\"white\" stroke=\"none\" points=\"-4,4 -4,-548 529,-548 529,4 -4,4\"/>\r\n",
       "<!-- 0 -->\r\n",
       "<g id=\"node1\" class=\"node\"><title>0</title>\r\n",
       "<path fill=\"#f3c4a3\" stroke=\"black\" d=\"M317.5,-544C317.5,-544 211.5,-544 211.5,-544 205.5,-544 199.5,-538 199.5,-532 199.5,-532 199.5,-473 199.5,-473 199.5,-467 205.5,-461 211.5,-461 211.5,-461 317.5,-461 317.5,-461 323.5,-461 329.5,-467 329.5,-473 329.5,-473 329.5,-532 329.5,-532 329.5,-538 323.5,-544 317.5,-544\"/>\r\n",
       "<text text-anchor=\"start\" x=\"217.5\" y=\"-528.8\" font-family=\"Helvetica,sans-Serif\" font-size=\"14.00\">gluctol ≤ 139.5</text>\r\n",
       "<text text-anchor=\"start\" x=\"227\" y=\"-513.8\" font-family=\"Helvetica,sans-Serif\" font-size=\"14.00\">gini = 0.454</text>\r\n",
       "<text text-anchor=\"start\" x=\"217\" y=\"-498.8\" font-family=\"Helvetica,sans-Serif\" font-size=\"14.00\">samples = 514</text>\r\n",
       "<text text-anchor=\"start\" x=\"207.5\" y=\"-483.8\" font-family=\"Helvetica,sans-Serif\" font-size=\"14.00\">value = [335, 179]</text>\r\n",
       "<text text-anchor=\"start\" x=\"235.5\" y=\"-468.8\" font-family=\"Helvetica,sans-Serif\" font-size=\"14.00\">class = 0</text>\r\n",
       "</g>\r\n",
       "<!-- 1 -->\r\n",
       "<g id=\"node2\" class=\"node\"><title>1</title>\r\n",
       "<path fill=\"#eda572\" stroke=\"black\" d=\"M244,-425C244,-425 131,-425 131,-425 125,-425 119,-419 119,-413 119,-413 119,-354 119,-354 119,-348 125,-342 131,-342 131,-342 244,-342 244,-342 250,-342 256,-348 256,-354 256,-354 256,-413 256,-413 256,-419 250,-425 244,-425\"/>\r\n",
       "<text text-anchor=\"start\" x=\"127\" y=\"-409.8\" font-family=\"Helvetica,sans-Serif\" font-size=\"14.00\">massindex ≤ 27.35</text>\r\n",
       "<text text-anchor=\"start\" x=\"150\" y=\"-394.8\" font-family=\"Helvetica,sans-Serif\" font-size=\"14.00\">gini = 0.348</text>\r\n",
       "<text text-anchor=\"start\" x=\"140\" y=\"-379.8\" font-family=\"Helvetica,sans-Serif\" font-size=\"14.00\">samples = 383</text>\r\n",
       "<text text-anchor=\"start\" x=\"134.5\" y=\"-364.8\" font-family=\"Helvetica,sans-Serif\" font-size=\"14.00\">value = [297, 86]</text>\r\n",
       "<text text-anchor=\"start\" x=\"158.5\" y=\"-349.8\" font-family=\"Helvetica,sans-Serif\" font-size=\"14.00\">class = 0</text>\r\n",
       "</g>\r\n",
       "<!-- 0&#45;&gt;1 -->\r\n",
       "<g id=\"edge1\" class=\"edge\"><title>0&#45;&gt;1</title>\r\n",
       "<path fill=\"none\" stroke=\"black\" d=\"M237.785,-460.907C231.992,-452.105 225.805,-442.703 219.822,-433.612\"/>\r\n",
       "<polygon fill=\"black\" stroke=\"black\" points=\"222.589,-431.45 214.168,-425.021 216.741,-435.298 222.589,-431.45\"/>\r\n",
       "<text text-anchor=\"middle\" x=\"209.119\" y=\"-445.806\" font-family=\"Helvetica,sans-Serif\" font-size=\"14.00\">True</text>\r\n",
       "</g>\r\n",
       "<!-- 2 -->\r\n",
       "<g id=\"node9\" class=\"node\"><title>2</title>\r\n",
       "<path fill=\"#8ac5f0\" stroke=\"black\" d=\"M399,-425C399,-425 286,-425 286,-425 280,-425 274,-419 274,-413 274,-413 274,-354 274,-354 274,-348 280,-342 286,-342 286,-342 399,-342 399,-342 405,-342 411,-348 411,-354 411,-354 411,-413 411,-413 411,-419 405,-425 399,-425\"/>\r\n",
       "<text text-anchor=\"start\" x=\"282\" y=\"-409.8\" font-family=\"Helvetica,sans-Serif\" font-size=\"14.00\">massindex ≤ 29.85</text>\r\n",
       "<text text-anchor=\"start\" x=\"305\" y=\"-394.8\" font-family=\"Helvetica,sans-Serif\" font-size=\"14.00\">gini = 0.412</text>\r\n",
       "<text text-anchor=\"start\" x=\"295\" y=\"-379.8\" font-family=\"Helvetica,sans-Serif\" font-size=\"14.00\">samples = 131</text>\r\n",
       "<text text-anchor=\"start\" x=\"294\" y=\"-364.8\" font-family=\"Helvetica,sans-Serif\" font-size=\"14.00\">value = [38, 93]</text>\r\n",
       "<text text-anchor=\"start\" x=\"313.5\" y=\"-349.8\" font-family=\"Helvetica,sans-Serif\" font-size=\"14.00\">class = 1</text>\r\n",
       "</g>\r\n",
       "<!-- 0&#45;&gt;2 -->\r\n",
       "<g id=\"edge8\" class=\"edge\"><title>0&#45;&gt;2</title>\r\n",
       "<path fill=\"none\" stroke=\"black\" d=\"M291.562,-460.907C297.43,-452.105 303.698,-442.703 309.759,-433.612\"/>\r\n",
       "<polygon fill=\"black\" stroke=\"black\" points=\"312.851,-435.283 315.486,-425.021 307.027,-431.4 312.851,-435.283\"/>\r\n",
       "<text text-anchor=\"middle\" x=\"320.389\" y=\"-445.835\" font-family=\"Helvetica,sans-Serif\" font-size=\"14.00\">False</text>\r\n",
       "</g>\r\n",
       "<!-- 3 -->\r\n",
       "<g id=\"node3\" class=\"node\"><title>3</title>\r\n",
       "<path fill=\"#e68844\" stroke=\"black\" d=\"M101,-298.5C101,-298.5 12,-298.5 12,-298.5 6,-298.5 0,-292.5 0,-286.5 0,-286.5 0,-242.5 0,-242.5 0,-236.5 6,-230.5 12,-230.5 12,-230.5 101,-230.5 101,-230.5 107,-230.5 113,-236.5 113,-242.5 113,-242.5 113,-286.5 113,-286.5 113,-292.5 107,-298.5 101,-298.5\"/>\r\n",
       "<text text-anchor=\"start\" x=\"19\" y=\"-283.3\" font-family=\"Helvetica,sans-Serif\" font-size=\"14.00\">gini = 0.098</text>\r\n",
       "<text text-anchor=\"start\" x=\"9\" y=\"-268.3\" font-family=\"Helvetica,sans-Serif\" font-size=\"14.00\">samples = 116</text>\r\n",
       "<text text-anchor=\"start\" x=\"8\" y=\"-253.3\" font-family=\"Helvetica,sans-Serif\" font-size=\"14.00\">value = [110, 6]</text>\r\n",
       "<text text-anchor=\"start\" x=\"27.5\" y=\"-238.3\" font-family=\"Helvetica,sans-Serif\" font-size=\"14.00\">class = 0</text>\r\n",
       "</g>\r\n",
       "<!-- 1&#45;&gt;3 -->\r\n",
       "<g id=\"edge2\" class=\"edge\"><title>1&#45;&gt;3</title>\r\n",
       "<path fill=\"none\" stroke=\"black\" d=\"M142.05,-341.907C128.83,-330.101 114.405,-317.217 101.23,-305.45\"/>\r\n",
       "<polygon fill=\"black\" stroke=\"black\" points=\"103.425,-302.718 93.6356,-298.667 98.7626,-307.939 103.425,-302.718\"/>\r\n",
       "</g>\r\n",
       "<!-- 4 -->\r\n",
       "<g id=\"node4\" class=\"node\"><title>4</title>\r\n",
       "<path fill=\"#f0b78e\" stroke=\"black\" d=\"M241.5,-306C241.5,-306 143.5,-306 143.5,-306 137.5,-306 131.5,-300 131.5,-294 131.5,-294 131.5,-235 131.5,-235 131.5,-229 137.5,-223 143.5,-223 143.5,-223 241.5,-223 241.5,-223 247.5,-223 253.5,-229 253.5,-235 253.5,-235 253.5,-294 253.5,-294 253.5,-300 247.5,-306 241.5,-306\"/>\r\n",
       "<text text-anchor=\"start\" x=\"145.5\" y=\"-290.8\" font-family=\"Helvetica,sans-Serif\" font-size=\"14.00\">gluctol ≤ 103.5</text>\r\n",
       "<text text-anchor=\"start\" x=\"159\" y=\"-275.8\" font-family=\"Helvetica,sans-Serif\" font-size=\"14.00\">gini = 0.42</text>\r\n",
       "<text text-anchor=\"start\" x=\"145\" y=\"-260.8\" font-family=\"Helvetica,sans-Serif\" font-size=\"14.00\">samples = 267</text>\r\n",
       "<text text-anchor=\"start\" x=\"139.5\" y=\"-245.8\" font-family=\"Helvetica,sans-Serif\" font-size=\"14.00\">value = [187, 80]</text>\r\n",
       "<text text-anchor=\"start\" x=\"163.5\" y=\"-230.8\" font-family=\"Helvetica,sans-Serif\" font-size=\"14.00\">class = 0</text>\r\n",
       "</g>\r\n",
       "<!-- 1&#45;&gt;4 -->\r\n",
       "<g id=\"edge3\" class=\"edge\"><title>1&#45;&gt;4</title>\r\n",
       "<path fill=\"none\" stroke=\"black\" d=\"M189.235,-341.907C189.592,-333.558 189.971,-324.671 190.341,-316.02\"/>\r\n",
       "<polygon fill=\"black\" stroke=\"black\" points=\"193.838,-316.161 190.768,-306.021 186.844,-315.862 193.838,-316.161\"/>\r\n",
       "</g>\r\n",
       "<!-- 5 -->\r\n",
       "<g id=\"node5\" class=\"node\"><title>5</title>\r\n",
       "<path fill=\"#ea985c\" stroke=\"black\" d=\"M171,-179.5C171,-179.5 82,-179.5 82,-179.5 76,-179.5 70,-173.5 70,-167.5 70,-167.5 70,-123.5 70,-123.5 70,-117.5 76,-111.5 82,-111.5 82,-111.5 171,-111.5 171,-111.5 177,-111.5 183,-117.5 183,-123.5 183,-123.5 183,-167.5 183,-167.5 183,-173.5 177,-179.5 171,-179.5\"/>\r\n",
       "<text text-anchor=\"start\" x=\"89\" y=\"-164.3\" font-family=\"Helvetica,sans-Serif\" font-size=\"14.00\">gini = 0.257</text>\r\n",
       "<text text-anchor=\"start\" x=\"79\" y=\"-149.3\" font-family=\"Helvetica,sans-Serif\" font-size=\"14.00\">samples = 112</text>\r\n",
       "<text text-anchor=\"start\" x=\"78\" y=\"-134.3\" font-family=\"Helvetica,sans-Serif\" font-size=\"14.00\">value = [95, 17]</text>\r\n",
       "<text text-anchor=\"start\" x=\"97.5\" y=\"-119.3\" font-family=\"Helvetica,sans-Serif\" font-size=\"14.00\">class = 0</text>\r\n",
       "</g>\r\n",
       "<!-- 4&#45;&gt;5 -->\r\n",
       "<g id=\"edge4\" class=\"edge\"><title>4&#45;&gt;5</title>\r\n",
       "<path fill=\"none\" stroke=\"black\" d=\"M169.602,-222.907C163.315,-211.763 156.487,-199.658 150.158,-188.439\"/>\r\n",
       "<polygon fill=\"black\" stroke=\"black\" points=\"153.171,-186.657 145.21,-179.667 147.074,-190.096 153.171,-186.657\"/>\r\n",
       "</g>\r\n",
       "<!-- 6 -->\r\n",
       "<g id=\"node6\" class=\"node\"><title>6</title>\r\n",
       "<path fill=\"#f7d7c1\" stroke=\"black\" d=\"M302,-187C302,-187 213,-187 213,-187 207,-187 201,-181 201,-175 201,-175 201,-116 201,-116 201,-110 207,-104 213,-104 213,-104 302,-104 302,-104 308,-104 314,-110 314,-116 314,-116 314,-175 314,-175 314,-181 308,-187 302,-187\"/>\r\n",
       "<text text-anchor=\"start\" x=\"223.5\" y=\"-171.8\" font-family=\"Helvetica,sans-Serif\" font-size=\"14.00\">age ≤ 28.5</text>\r\n",
       "<text text-anchor=\"start\" x=\"220\" y=\"-156.8\" font-family=\"Helvetica,sans-Serif\" font-size=\"14.00\">gini = 0.482</text>\r\n",
       "<text text-anchor=\"start\" x=\"210\" y=\"-141.8\" font-family=\"Helvetica,sans-Serif\" font-size=\"14.00\">samples = 155</text>\r\n",
       "<text text-anchor=\"start\" x=\"209\" y=\"-126.8\" font-family=\"Helvetica,sans-Serif\" font-size=\"14.00\">value = [92, 63]</text>\r\n",
       "<text text-anchor=\"start\" x=\"228.5\" y=\"-111.8\" font-family=\"Helvetica,sans-Serif\" font-size=\"14.00\">class = 0</text>\r\n",
       "</g>\r\n",
       "<!-- 4&#45;&gt;6 -->\r\n",
       "<g id=\"edge5\" class=\"edge\"><title>4&#45;&gt;6</title>\r\n",
       "<path fill=\"none\" stroke=\"black\" d=\"M215.051,-222.907C219.891,-214.195 225.057,-204.897 230.059,-195.893\"/>\r\n",
       "<polygon fill=\"black\" stroke=\"black\" points=\"233.192,-197.462 234.988,-187.021 227.072,-194.063 233.192,-197.462\"/>\r\n",
       "</g>\r\n",
       "<!-- 9 -->\r\n",
       "<g id=\"node7\" class=\"node\"><title>9</title>\r\n",
       "<path fill=\"#eeaf81\" stroke=\"black\" d=\"M236,-68C236,-68 147,-68 147,-68 141,-68 135,-62 135,-56 135,-56 135,-12 135,-12 135,-6 141,-0 147,-0 147,-0 236,-0 236,-0 242,-0 248,-6 248,-12 248,-12 248,-56 248,-56 248,-62 242,-68 236,-68\"/>\r\n",
       "<text text-anchor=\"start\" x=\"154\" y=\"-52.8\" font-family=\"Helvetica,sans-Serif\" font-size=\"14.00\">gini = 0.391</text>\r\n",
       "<text text-anchor=\"start\" x=\"148\" y=\"-37.8\" font-family=\"Helvetica,sans-Serif\" font-size=\"14.00\">samples = 75</text>\r\n",
       "<text text-anchor=\"start\" x=\"143\" y=\"-22.8\" font-family=\"Helvetica,sans-Serif\" font-size=\"14.00\">value = [55, 20]</text>\r\n",
       "<text text-anchor=\"start\" x=\"162.5\" y=\"-7.8\" font-family=\"Helvetica,sans-Serif\" font-size=\"14.00\">class = 0</text>\r\n",
       "</g>\r\n",
       "<!-- 6&#45;&gt;9 -->\r\n",
       "<g id=\"edge6\" class=\"edge\"><title>6&#45;&gt;9</title>\r\n",
       "<path fill=\"none\" stroke=\"black\" d=\"M232.924,-103.726C227.646,-94.9703 222.061,-85.7032 216.758,-76.9051\"/>\r\n",
       "<polygon fill=\"black\" stroke=\"black\" points=\"219.731,-75.0574 211.571,-68.2996 213.736,-78.671 219.731,-75.0574\"/>\r\n",
       "</g>\r\n",
       "<!-- 10 -->\r\n",
       "<g id=\"node8\" class=\"node\"><title>10</title>\r\n",
       "<path fill=\"#e3f1fb\" stroke=\"black\" d=\"M367,-68C367,-68 278,-68 278,-68 272,-68 266,-62 266,-56 266,-56 266,-12 266,-12 266,-6 272,-0 278,-0 278,-0 367,-0 367,-0 373,-0 379,-6 379,-12 379,-12 379,-56 379,-56 379,-62 373,-68 367,-68\"/>\r\n",
       "<text text-anchor=\"start\" x=\"285\" y=\"-52.8\" font-family=\"Helvetica,sans-Serif\" font-size=\"14.00\">gini = 0.497</text>\r\n",
       "<text text-anchor=\"start\" x=\"279\" y=\"-37.8\" font-family=\"Helvetica,sans-Serif\" font-size=\"14.00\">samples = 80</text>\r\n",
       "<text text-anchor=\"start\" x=\"274\" y=\"-22.8\" font-family=\"Helvetica,sans-Serif\" font-size=\"14.00\">value = [37, 43]</text>\r\n",
       "<text text-anchor=\"start\" x=\"293.5\" y=\"-7.8\" font-family=\"Helvetica,sans-Serif\" font-size=\"14.00\">class = 1</text>\r\n",
       "</g>\r\n",
       "<!-- 6&#45;&gt;10 -->\r\n",
       "<g id=\"edge7\" class=\"edge\"><title>6&#45;&gt;10</title>\r\n",
       "<path fill=\"none\" stroke=\"black\" d=\"M281.704,-103.726C286.901,-94.9703 292.402,-85.7032 297.625,-76.9051\"/>\r\n",
       "<polygon fill=\"black\" stroke=\"black\" points=\"300.638,-78.6853 302.733,-68.2996 294.619,-75.1121 300.638,-78.6853\"/>\r\n",
       "</g>\r\n",
       "<!-- 7 -->\r\n",
       "<g id=\"node10\" class=\"node\"><title>7</title>\r\n",
       "<path fill=\"#f5d0b5\" stroke=\"black\" d=\"M382,-298.5C382,-298.5 293,-298.5 293,-298.5 287,-298.5 281,-292.5 281,-286.5 281,-286.5 281,-242.5 281,-242.5 281,-236.5 287,-230.5 293,-230.5 293,-230.5 382,-230.5 382,-230.5 388,-230.5 394,-236.5 394,-242.5 394,-242.5 394,-286.5 394,-286.5 394,-292.5 388,-298.5 382,-298.5\"/>\r\n",
       "<text text-anchor=\"start\" x=\"300\" y=\"-283.3\" font-family=\"Helvetica,sans-Serif\" font-size=\"14.00\">gini = 0.473</text>\r\n",
       "<text text-anchor=\"start\" x=\"294\" y=\"-268.3\" font-family=\"Helvetica,sans-Serif\" font-size=\"14.00\">samples = 26</text>\r\n",
       "<text text-anchor=\"start\" x=\"289\" y=\"-253.3\" font-family=\"Helvetica,sans-Serif\" font-size=\"14.00\">value = [16, 10]</text>\r\n",
       "<text text-anchor=\"start\" x=\"308.5\" y=\"-238.3\" font-family=\"Helvetica,sans-Serif\" font-size=\"14.00\">class = 0</text>\r\n",
       "</g>\r\n",
       "<!-- 2&#45;&gt;7 -->\r\n",
       "<g id=\"edge9\" class=\"edge\"><title>2&#45;&gt;7</title>\r\n",
       "<path fill=\"none\" stroke=\"black\" d=\"M340.765,-341.907C340.308,-331.204 339.813,-319.615 339.349,-308.776\"/>\r\n",
       "<polygon fill=\"black\" stroke=\"black\" points=\"342.841,-308.508 338.917,-298.667 335.848,-308.807 342.841,-308.508\"/>\r\n",
       "</g>\r\n",
       "<!-- 8 -->\r\n",
       "<g id=\"node11\" class=\"node\"><title>8</title>\r\n",
       "<path fill=\"#6db7ec\" stroke=\"black\" d=\"M513,-298.5C513,-298.5 424,-298.5 424,-298.5 418,-298.5 412,-292.5 412,-286.5 412,-286.5 412,-242.5 412,-242.5 412,-236.5 418,-230.5 424,-230.5 424,-230.5 513,-230.5 513,-230.5 519,-230.5 525,-236.5 525,-242.5 525,-242.5 525,-286.5 525,-286.5 525,-292.5 519,-298.5 513,-298.5\"/>\r\n",
       "<text text-anchor=\"start\" x=\"431\" y=\"-283.3\" font-family=\"Helvetica,sans-Serif\" font-size=\"14.00\">gini = 0.331</text>\r\n",
       "<text text-anchor=\"start\" x=\"421\" y=\"-268.3\" font-family=\"Helvetica,sans-Serif\" font-size=\"14.00\">samples = 105</text>\r\n",
       "<text text-anchor=\"start\" x=\"420\" y=\"-253.3\" font-family=\"Helvetica,sans-Serif\" font-size=\"14.00\">value = [22, 83]</text>\r\n",
       "<text text-anchor=\"start\" x=\"439.5\" y=\"-238.3\" font-family=\"Helvetica,sans-Serif\" font-size=\"14.00\">class = 1</text>\r\n",
       "</g>\r\n",
       "<!-- 2&#45;&gt;8 -->\r\n",
       "<g id=\"edge10\" class=\"edge\"><title>2&#45;&gt;8</title>\r\n",
       "<path fill=\"none\" stroke=\"black\" d=\"M386.215,-341.907C398.811,-330.211 412.546,-317.457 425.122,-305.78\"/>\r\n",
       "<polygon fill=\"black\" stroke=\"black\" points=\"427.835,-308.036 432.782,-298.667 423.072,-302.907 427.835,-308.036\"/>\r\n",
       "</g>\r\n",
       "</g>\r\n",
       "</svg>\r\n"
      ],
      "text/plain": [
       "<graphviz.files.Source at 0x162b2b673c8>"
      ]
     },
     "execution_count": 17,
     "metadata": {},
     "output_type": "execute_result"
    }
   ],
   "source": [
    "#save the feature list into a vector (sono i nomi delle colonne del dataset)\n",
    "features=list(df.columns.values)\n",
    "\n",
    "import graphviz\n",
    "dot_data = tree.export_graphviz(tree_clf, out_file=None, \n",
    "                     feature_names=features[0:-1],  \n",
    "                     class_names=['0','1'],  \n",
    "                     filled=True, rounded=True,  \n",
    "                     special_characters=True)  \n",
    "graph = graphviz.Source(dot_data)\n",
    "graph.render('diabetes')\n",
    "graph"
   ]
  },
  {
   "cell_type": "markdown",
   "metadata": {},
   "source": [
    "<img src=\"Images/tree.png\" width=\"500\" align=\"left\">\n",
    "\n",
    "Vediamo come si è mosso il metodo. Tra le variabili indipendenti, ha scelto di partire da _gluctol_ che aveva un indice di Gini di 0,454. Ha scelto il valore con cui effettuare il confronto (139.5) e ha suddiviso (split) i dati in due sottoinsiemi, quelli con _gluctol_ <= 139.5 (335 campioni) e gli altri (179 campioni). Dopodichè ha lavorato sui valori di un'altra variabile indipendente, _massindex_ ed è riuscito ad ottenere le prime tre foglie. A quel punto ha riutilizzzato nuovamente  _gluctol_ (perché tra tutte le variabili indipendenti era quella con l'indice di Gini più basso) ottenendo una nuova foglia e un sottoinsieme di cui ha analizzato l'età per ottenere le ultime due foglie."
   ]
  },
  {
   "cell_type": "markdown",
   "metadata": {},
   "source": [
    "E' anche possibile vedere lo stesso albero in forma testuale:"
   ]
  },
  {
   "cell_type": "code",
   "execution_count": 16,
   "metadata": {},
   "outputs": [
    {
     "name": "stdout",
     "output_type": "stream",
     "text": [
      "|--- gluctol <= 139.50\n",
      "|   |--- massindex <= 27.35\n",
      "|   |   |--- class: 0.0\n",
      "|   |--- massindex >  27.35\n",
      "|   |   |--- gluctol <= 103.50\n",
      "|   |   |   |--- class: 0.0\n",
      "|   |   |--- gluctol >  103.50\n",
      "|   |   |   |--- age <= 28.50\n",
      "|   |   |   |   |--- class: 0.0\n",
      "|   |   |   |--- age >  28.50\n",
      "|   |   |   |   |--- class: 1.0\n",
      "|--- gluctol >  139.50\n",
      "|   |--- massindex <= 29.85\n",
      "|   |   |--- class: 0.0\n",
      "|   |--- massindex >  29.85\n",
      "|   |   |--- class: 1.0\n",
      "\n"
     ]
    },
    {
     "name": "stderr",
     "output_type": "stream",
     "text": [
      "C:\\Users\\wtitz\\anaconda3\\lib\\site-packages\\sklearn\\utils\\deprecation.py:144: FutureWarning: The sklearn.tree.export module is  deprecated in version 0.22 and will be removed in version 0.24. The corresponding classes / functions should instead be imported from sklearn.tree. Anything that cannot be imported from sklearn.tree is now part of the private API.\n",
      "  warnings.warn(message, FutureWarning)\n"
     ]
    }
   ],
   "source": [
    "from sklearn.tree.export import export_text\n",
    "r = export_text(tree_clf, feature_names=features[0:-1])\n",
    "print(r)"
   ]
  },
  {
   "cell_type": "code",
   "execution_count": null,
   "metadata": {},
   "outputs": [],
   "source": []
  }
 ],
 "metadata": {
  "kernelspec": {
   "display_name": "Python 3",
   "language": "python",
   "name": "python3"
  },
  "language_info": {
   "codemirror_mode": {
    "name": "ipython",
    "version": 3
   },
   "file_extension": ".py",
   "mimetype": "text/x-python",
   "name": "python",
   "nbconvert_exporter": "python",
   "pygments_lexer": "ipython3",
   "version": "3.7.6"
  },
  "toc": {
   "base_numbering": 1,
   "nav_menu": {},
   "number_sections": true,
   "sideBar": true,
   "skip_h1_title": false,
   "title_cell": "Table of Contents",
   "title_sidebar": "Contents",
   "toc_cell": false,
   "toc_position": {},
   "toc_section_display": true,
   "toc_window_display": false
  }
 },
 "nbformat": 4,
 "nbformat_minor": 2
}
