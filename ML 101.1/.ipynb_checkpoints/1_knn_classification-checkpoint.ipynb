{
 "cells": [
  {
   "cell_type": "markdown",
   "metadata": {},
   "source": [
    "# Run your first classifier with Python"
   ]
  },
  {
   "cell_type": "markdown",
   "metadata": {},
   "source": [
    "Import the *Pima Indians Diabetes Database* dataset thorugh pandas.\n",
    "\n",
    "__Context__:\n",
    "This dataset is originally from the National Institute of Diabetes and Digestive and Kidney Diseases. __The objective of the project is to diagnostically predict whether or not a patient has diabetes, based on certain diagnostic measurements included in the dataset__. Several constraints were placed on the selection of these instances from a larger database. In particular, all patients here are females at least 21 years old of Pima Indian heritage.\n",
    "\n",
    "link to the [dataset](https://www.kaggle.com/uciml/pima-indians-diabetes-database) "
   ]
  },
  {
   "cell_type": "markdown",
   "metadata": {},
   "source": [
    "# Import data"
   ]
  },
  {
   "cell_type": "code",
   "execution_count": 1,
   "metadata": {},
   "outputs": [],
   "source": [
    "import pandas as pd\n",
    "df = pd.read_csv('data/diabetes.txt')"
   ]
  },
  {
   "cell_type": "code",
   "execution_count": 2,
   "metadata": {},
   "outputs": [
    {
     "data": {
      "text/html": [
       "<div>\n",
       "<style scoped>\n",
       "    .dataframe tbody tr th:only-of-type {\n",
       "        vertical-align: middle;\n",
       "    }\n",
       "\n",
       "    .dataframe tbody tr th {\n",
       "        vertical-align: top;\n",
       "    }\n",
       "\n",
       "    .dataframe thead th {\n",
       "        text-align: right;\n",
       "    }\n",
       "</style>\n",
       "<table border=\"1\" class=\"dataframe\">\n",
       "  <thead>\n",
       "    <tr style=\"text-align: right;\">\n",
       "      <th></th>\n",
       "      <th>timespreg</th>\n",
       "      <th>gluctol</th>\n",
       "      <th>diaspb</th>\n",
       "      <th>triceps</th>\n",
       "      <th>insulin</th>\n",
       "      <th>massindex</th>\n",
       "      <th>pedigree</th>\n",
       "      <th>age</th>\n",
       "      <th>target</th>\n",
       "    </tr>\n",
       "  </thead>\n",
       "  <tbody>\n",
       "    <tr>\n",
       "      <th>0</th>\n",
       "      <td>6</td>\n",
       "      <td>148</td>\n",
       "      <td>72</td>\n",
       "      <td>35</td>\n",
       "      <td>0</td>\n",
       "      <td>33.6</td>\n",
       "      <td>0.627</td>\n",
       "      <td>50</td>\n",
       "      <td>1</td>\n",
       "    </tr>\n",
       "    <tr>\n",
       "      <th>1</th>\n",
       "      <td>1</td>\n",
       "      <td>85</td>\n",
       "      <td>66</td>\n",
       "      <td>29</td>\n",
       "      <td>0</td>\n",
       "      <td>26.6</td>\n",
       "      <td>0.351</td>\n",
       "      <td>31</td>\n",
       "      <td>0</td>\n",
       "    </tr>\n",
       "    <tr>\n",
       "      <th>2</th>\n",
       "      <td>8</td>\n",
       "      <td>183</td>\n",
       "      <td>64</td>\n",
       "      <td>0</td>\n",
       "      <td>0</td>\n",
       "      <td>23.3</td>\n",
       "      <td>0.672</td>\n",
       "      <td>32</td>\n",
       "      <td>1</td>\n",
       "    </tr>\n",
       "    <tr>\n",
       "      <th>3</th>\n",
       "      <td>1</td>\n",
       "      <td>89</td>\n",
       "      <td>66</td>\n",
       "      <td>23</td>\n",
       "      <td>94</td>\n",
       "      <td>28.1</td>\n",
       "      <td>0.167</td>\n",
       "      <td>21</td>\n",
       "      <td>0</td>\n",
       "    </tr>\n",
       "    <tr>\n",
       "      <th>4</th>\n",
       "      <td>0</td>\n",
       "      <td>137</td>\n",
       "      <td>40</td>\n",
       "      <td>35</td>\n",
       "      <td>168</td>\n",
       "      <td>43.1</td>\n",
       "      <td>2.288</td>\n",
       "      <td>33</td>\n",
       "      <td>1</td>\n",
       "    </tr>\n",
       "    <tr>\n",
       "      <th>...</th>\n",
       "      <td>...</td>\n",
       "      <td>...</td>\n",
       "      <td>...</td>\n",
       "      <td>...</td>\n",
       "      <td>...</td>\n",
       "      <td>...</td>\n",
       "      <td>...</td>\n",
       "      <td>...</td>\n",
       "      <td>...</td>\n",
       "    </tr>\n",
       "    <tr>\n",
       "      <th>763</th>\n",
       "      <td>10</td>\n",
       "      <td>101</td>\n",
       "      <td>76</td>\n",
       "      <td>48</td>\n",
       "      <td>180</td>\n",
       "      <td>32.9</td>\n",
       "      <td>0.171</td>\n",
       "      <td>63</td>\n",
       "      <td>0</td>\n",
       "    </tr>\n",
       "    <tr>\n",
       "      <th>764</th>\n",
       "      <td>2</td>\n",
       "      <td>122</td>\n",
       "      <td>70</td>\n",
       "      <td>27</td>\n",
       "      <td>0</td>\n",
       "      <td>36.8</td>\n",
       "      <td>0.340</td>\n",
       "      <td>27</td>\n",
       "      <td>0</td>\n",
       "    </tr>\n",
       "    <tr>\n",
       "      <th>765</th>\n",
       "      <td>5</td>\n",
       "      <td>121</td>\n",
       "      <td>72</td>\n",
       "      <td>23</td>\n",
       "      <td>112</td>\n",
       "      <td>26.2</td>\n",
       "      <td>0.245</td>\n",
       "      <td>30</td>\n",
       "      <td>0</td>\n",
       "    </tr>\n",
       "    <tr>\n",
       "      <th>766</th>\n",
       "      <td>1</td>\n",
       "      <td>126</td>\n",
       "      <td>60</td>\n",
       "      <td>0</td>\n",
       "      <td>0</td>\n",
       "      <td>30.1</td>\n",
       "      <td>0.349</td>\n",
       "      <td>47</td>\n",
       "      <td>1</td>\n",
       "    </tr>\n",
       "    <tr>\n",
       "      <th>767</th>\n",
       "      <td>1</td>\n",
       "      <td>93</td>\n",
       "      <td>70</td>\n",
       "      <td>31</td>\n",
       "      <td>0</td>\n",
       "      <td>30.4</td>\n",
       "      <td>0.315</td>\n",
       "      <td>23</td>\n",
       "      <td>0</td>\n",
       "    </tr>\n",
       "  </tbody>\n",
       "</table>\n",
       "<p>768 rows × 9 columns</p>\n",
       "</div>"
      ],
      "text/plain": [
       "     timespreg  gluctol  diaspb  triceps  insulin  massindex  pedigree  age  \\\n",
       "0            6      148      72       35        0       33.6     0.627   50   \n",
       "1            1       85      66       29        0       26.6     0.351   31   \n",
       "2            8      183      64        0        0       23.3     0.672   32   \n",
       "3            1       89      66       23       94       28.1     0.167   21   \n",
       "4            0      137      40       35      168       43.1     2.288   33   \n",
       "..         ...      ...     ...      ...      ...        ...       ...  ...   \n",
       "763         10      101      76       48      180       32.9     0.171   63   \n",
       "764          2      122      70       27        0       36.8     0.340   27   \n",
       "765          5      121      72       23      112       26.2     0.245   30   \n",
       "766          1      126      60        0        0       30.1     0.349   47   \n",
       "767          1       93      70       31        0       30.4     0.315   23   \n",
       "\n",
       "     target  \n",
       "0         1  \n",
       "1         0  \n",
       "2         1  \n",
       "3         0  \n",
       "4         1  \n",
       "..      ...  \n",
       "763       0  \n",
       "764       0  \n",
       "765       0  \n",
       "766       1  \n",
       "767       0  \n",
       "\n",
       "[768 rows x 9 columns]"
      ]
     },
     "execution_count": 2,
     "metadata": {},
     "output_type": "execute_result"
    }
   ],
   "source": [
    "df"
   ]
  },
  {
   "cell_type": "markdown",
   "metadata": {},
   "source": [
    "Print class frequencies through pandas \n",
    "(Tenere presente che target = 1 vuol dire che il paziente ha il diabete, 0 che non lo ha)"
   ]
  },
  {
   "cell_type": "code",
   "execution_count": 3,
   "metadata": {},
   "outputs": [
    {
     "name": "stdout",
     "output_type": "stream",
     "text": [
      "target\n",
      "0    500\n",
      "1    268\n",
      "dtype: int64\n"
     ]
    }
   ],
   "source": [
    "print(df.groupby('target').size())"
   ]
  },
  {
   "cell_type": "markdown",
   "metadata": {},
   "source": [
    "Bar plot for the target variable"
   ]
  },
  {
   "cell_type": "code",
   "execution_count": 4,
   "metadata": {},
   "outputs": [
    {
     "data": {
      "image/png": "[encoded data removed]",
      "text/plain": [
       "<Figure size 432x288 with 1 Axes>"
      ]
     },
     "metadata": {
      "needs_background": "light"
     },
     "output_type": "display_data"
    }
   ],
   "source": [
    "%matplotlib inline\n",
    "import seaborn as sns\n",
    "import matplotlib.pyplot as plt\n",
    "\n",
    "\n",
    "sns.countplot(x=\"target\", data=df)\n",
    "plt.title(\"Diabetes Dataset\")\n",
    "plt.xlabel(\"Classes\")\n",
    "plt.ylabel(\"Counts\")\n",
    "plt.show()"
   ]
  },
  {
   "cell_type": "markdown",
   "metadata": {},
   "source": [
    "Transform the dataframe into a numpy matrix (numpy is the python package for scientific computing)"
   ]
  },
  {
   "cell_type": "code",
   "execution_count": 5,
   "metadata": {},
   "outputs": [
    {
     "data": {
      "text/plain": [
       "Counter({1.0: 268, 0.0: 500})"
      ]
     },
     "execution_count": 5,
     "metadata": {},
     "output_type": "execute_result"
    }
   ],
   "source": [
    "import numpy as np\n",
    "df = df.to_numpy()\n",
    "x=df[:,0:-1] # prendiamo tutti i dati tranne l'ultima colonna -> variabili indipendenti, osservazioni\n",
    "y=df[:,-1] # prendiamo solo l'ultima colonna -> variabile dipendente, target\n",
    "\n",
    "#Print class frequencies through collections counter\n",
    "import collections\n",
    "collections.Counter(y)"
   ]
  },
  {
   "cell_type": "code",
   "execution_count": 6,
   "metadata": {},
   "outputs": [
    {
     "name": "stdout",
     "output_type": "stream",
     "text": [
      "[[6.000e+00 1.480e+02 7.200e+01 3.500e+01 0.000e+00 3.360e+01 6.270e-01\n",
      "  5.000e+01]\n",
      " [1.000e+00 8.500e+01 6.600e+01 2.900e+01 0.000e+00 2.660e+01 3.510e-01\n",
      "  3.100e+01]\n",
      " [8.000e+00 1.830e+02 6.400e+01 0.000e+00 0.000e+00 2.330e+01 6.720e-01\n",
      "  3.200e+01]\n",
      " [1.000e+00 8.900e+01 6.600e+01 2.300e+01 9.400e+01 2.810e+01 1.670e-01\n",
      "  2.100e+01]\n",
      " [0.000e+00 1.370e+02 4.000e+01 3.500e+01 1.680e+02 4.310e+01 2.288e+00\n",
      "  3.300e+01]\n",
      " [5.000e+00 1.160e+02 7.400e+01 0.000e+00 0.000e+00 2.560e+01 2.010e-01\n",
      "  3.000e+01]\n",
      " [3.000e+00 7.800e+01 5.000e+01 3.200e+01 8.800e+01 3.100e+01 2.480e-01\n",
      "  2.600e+01]\n",
      " [1.000e+01 1.150e+02 0.000e+00 0.000e+00 0.000e+00 3.530e+01 1.340e-01\n",
      "  2.900e+01]\n",
      " [2.000e+00 1.970e+02 7.000e+01 4.500e+01 5.430e+02 3.050e+01 1.580e-01\n",
      "  5.300e+01]\n",
      " [8.000e+00 1.250e+02 9.600e+01 0.000e+00 0.000e+00 0.000e+00 2.320e-01\n",
      "  5.400e+01]]\n",
      "y = [1. 0. 1. 0. 1. 0. 1. 0. 1. 1.]\n"
     ]
    }
   ],
   "source": [
    "print(x[:10])\n",
    "print(f'y = {y[:10]}')"
   ]
  },
  {
   "cell_type": "code",
   "execution_count": 7,
   "metadata": {},
   "outputs": [
    {
     "name": "stdout",
     "output_type": "stream",
     "text": [
      "[[  6.    148.     72.     35.      0.     33.6     0.627  50.   ]\n",
      " [  1.     85.     66.     29.      0.     26.6     0.351  31.   ]\n",
      " [  8.    183.     64.      0.      0.     23.3     0.672  32.   ]\n",
      " [  1.     89.     66.     23.     94.     28.1     0.167  21.   ]\n",
      " [  0.    137.     40.     35.    168.     43.1     2.288  33.   ]\n",
      " [  5.    116.     74.      0.      0.     25.6     0.201  30.   ]\n",
      " [  3.     78.     50.     32.     88.     31.      0.248  26.   ]\n",
      " [ 10.    115.      0.      0.      0.     35.3     0.134  29.   ]\n",
      " [  2.    197.     70.     45.    543.     30.5     0.158  53.   ]\n",
      " [  8.    125.     96.      0.      0.      0.      0.232  54.   ]]\n",
      "y = [1. 0. 1. 0. 1. 0. 1. 0. 1. 1.]\n"
     ]
    }
   ],
   "source": [
    "# suppress scientific notation\n",
    "np.set_printoptions(suppress=True)\n",
    "print(x[:10])\n",
    "print(f'y = {y[:10]}')"
   ]
  },
  {
   "cell_type": "markdown",
   "metadata": {},
   "source": [
    "# Split data into training/test set"
   ]
  },
  {
   "cell_type": "code",
   "execution_count": 8,
   "metadata": {},
   "outputs": [],
   "source": [
    "# !pip install sklearn"
   ]
  },
  {
   "cell_type": "code",
   "execution_count": 9,
   "metadata": {},
   "outputs": [],
   "source": [
    "# https://scikit-learn.org/stable/ libreria per il Machine Learning in Python\n",
    "\n",
    "# come per altri metodi di ML, dobbiamo prendere i nostri valori delle osservazioni e splittarle in due insiemi:\n",
    "# training set: è il sottoinsieme delle osservazioni che serve al nostro metodo per imparare\n",
    "# test set: è il sottoinsieme delle osservazioni che serve al nostro metodo per capire se ha imparato bene\n",
    "\n",
    "from sklearn.model_selection import train_test_split # suddivide le osservazioni nei due insiemi\n",
    "\n",
    "X_train, X_test, y_train, y_test = train_test_split(x, y, \n",
    "                                                    test_size = 0.33, # by default is 75%-25%\n",
    "                                                    # shuffle is set True by default,\n",
    "                                                    stratify = y, # per mantenere le proporzioni che ci sono nei dati di partenza\n",
    "                                                    random_state = 123) # fix random seed for replicability"
   ]
  },
  {
   "cell_type": "code",
   "execution_count": 10,
   "metadata": {},
   "outputs": [
    {
     "data": {
      "text/plain": [
       "((514, 8), (514,), (254, 8), (254,))"
      ]
     },
     "execution_count": 10,
     "metadata": {},
     "output_type": "execute_result"
    }
   ],
   "source": [
    "X_train.shape,y_train.shape,X_test.shape,y_test.shape"
   ]
  },
  {
   "cell_type": "code",
   "execution_count": 11,
   "metadata": {},
   "outputs": [
    {
     "name": "stdout",
     "output_type": "stream",
     "text": [
      "[[  5.    123.     74.     40.     77.     34.1     0.269  28.   ]\n",
      " [  6.     80.     66.     30.      0.     26.2     0.313  41.   ]\n",
      " [ 10.     68.    106.     23.     49.     35.5     0.285  47.   ]\n",
      " [ 12.     84.     72.     31.      0.     29.7     0.297  46.   ]\n",
      " [  2.    106.     64.     35.    119.     30.5     1.4    34.   ]\n",
      " [  2.     92.     76.     20.      0.     24.2     1.698  28.   ]\n",
      " [  6.     85.     78.      0.      0.     31.2     0.382  42.   ]\n",
      " [  2.     81.     72.     15.     76.     30.1     0.547  25.   ]\n",
      " [  7.    133.     84.      0.      0.     40.2     0.696  37.   ]\n",
      " [  2.    108.     52.     26.     63.     32.5     0.318  22.   ]]\n",
      "y_train = [0. 0. 0. 1. 0. 0. 0. 0. 0. 0.]\n"
     ]
    }
   ],
   "source": [
    "print(X_train[:10])\n",
    "print(f'y_train = {y_train[:10]}')"
   ]
  },
  {
   "cell_type": "markdown",
   "metadata": {},
   "source": [
    "# Train the classifier"
   ]
  },
  {
   "cell_type": "markdown",
   "metadata": {},
   "source": [
    "Ci sono molti metodi per classificare un nuovo elemento. Per questa prima lezione scegliamo il Nearest Neighbors Classifier (K-NN), che classifica un elemento cercando di capire a quali altri elementi è più 'vicino'. Il metodo ha un solo paramentro, il numero K, che indica il nuemro di osservazioni già classificate di cui tenere conto per determinare la vicinanza del nuovo elemento. Vediamo il funzionamento analizzando l'immagine seguente: \n",
    "\n",
    "<img src=\"Images/K-NN.png\" width=\"900\" align=\"left\">"
   ]
  },
  {
   "cell_type": "code",
   "execution_count": 12,
   "metadata": {},
   "outputs": [
    {
     "name": "stdout",
     "output_type": "stream",
     "text": [
      "dati predetti dal metodo =                [0. 1. 1. 0. 1. 0. 1. 0. 1. 1.]\n",
      "dati reali presenti nel dataset di test = [1. 0. 1. 0. 1. 0. 1. 0. 1. 0.]\n"
     ]
    }
   ],
   "source": [
    "# importiamo il metodo che vogliamo utilizzara (tra i tanti disponibili...)\n",
    "from sklearn.neighbors import KNeighborsClassifier\n",
    "\n",
    "neigh = KNeighborsClassifier(n_neighbors=3) # impostiamo l'unico parametro (il numero di vicini)\n",
    "\n",
    "# prima parte: dobbiamo fare in modo che il metodo impari dalle informazioni a disposizione\n",
    "# NB: notare che il metodo utilizza sia X_train che y_train, perché deve capire se sta predicendo correttamente\n",
    "neigh.fit(X_train, y_train) # \"alleniamo\" il metodo con i dati del training set\n",
    "\n",
    "# seconda parte: vediamo se il metodo ha imparato bene facendogli prevedere i risultati \n",
    "# NB: notare che c'è solo X perché le y devono essere previste dal metodo\n",
    "predict = neigh.predict(X_test) # proviamo a fare una previsione sui dati del test set\n",
    "\n",
    "# visualizziamo il risultato (solo i primi dieci pazienti)\n",
    "print(f'dati predetti dal metodo =                {predict[:10]}') # dati predetti dal metodo\n",
    "print(f'dati reali presenti nel dataset di test = {y_test[:10]}') # dati effettivi presenti nel test set"
   ]
  },
  {
   "cell_type": "markdown",
   "metadata": {},
   "source": [
    "Vediamo come ha funzionato il nostro metodo analizzando i primi 10 pazienti (ricordiamoci che 1 vuol dire che il paziente ha il diabete, 0 che non lo ha)<br>\n",
    "\n",
    "- veri positivi (true positive, __TP__): quattro pazienti (nn. 3, 5, 7 e 9) sono stati classificati come diabetici ed effettivamente lo erano\n",
    "- veri negativi (true negative, __TN__): tre pazienti (nn. 4, 6 e 8) sono stati classificati come __non__ diabetici ed effettivamente non lo erano\n",
    "- falsi negativi (false negative, __FN__): un pazienti (n. 1) è stato classificato come __non__ diabetico anche se lo era \n",
    "- falsi positivi (false positive, __FP__): due pazienti (nn. 2 e 10) sono stati classificati come diabetici anche se __non__ lo erano \n",
    "\n",
    "Ma esiste un modo più scientifico per capire se il nostro metodo predice correttamente? Vediamo di valutare il nostro metodo con la confusion matrix e gli indicatori ad essa collegati."
   ]
  },
  {
   "cell_type": "markdown",
   "metadata": {},
   "source": [
    "# Evaluate the results"
   ]
  },
  {
   "cell_type": "markdown",
   "metadata": {},
   "source": [
    "Per valutare il nostro metodo, visualizziamo prima la cosiddetta \"confusion matrix\""
   ]
  },
  {
   "cell_type": "code",
   "execution_count": 13,
   "metadata": {},
   "outputs": [
    {
     "name": "stdout",
     "output_type": "stream",
     "text": [
      "Requirement already satisfied: mlxtend in c:\\users\\wtitz\\anaconda3\\lib\\site-packages (0.17.2)\n",
      "Requirement already satisfied: scipy>=1.2.1 in c:\\users\\wtitz\\anaconda3\\lib\\site-packages (from mlxtend) (1.4.1)\n",
      "Requirement already satisfied: pandas>=0.24.2 in c:\\users\\wtitz\\anaconda3\\lib\\site-packages (from mlxtend) (1.0.1)\n",
      "Requirement already satisfied: matplotlib>=3.0.0 in c:\\users\\wtitz\\anaconda3\\lib\\site-packages (from mlxtend) (3.1.3)\n",
      "Requirement already satisfied: setuptools in c:\\users\\wtitz\\anaconda3\\lib\\site-packages (from mlxtend) (45.2.0.post20200210)\n",
      "Requirement already satisfied: numpy>=1.16.2 in c:\\users\\wtitz\\anaconda3\\lib\\site-packages (from mlxtend) (1.18.1)\n",
      "Requirement already satisfied: scikit-learn>=0.20.3 in c:\\users\\wtitz\\anaconda3\\lib\\site-packages (from mlxtend) (0.22.1)\n",
      "Requirement already satisfied: joblib>=0.13.2 in c:\\users\\wtitz\\anaconda3\\lib\\site-packages (from mlxtend) (0.14.1)\n",
      "Requirement already satisfied: pytz>=2017.2 in c:\\users\\wtitz\\anaconda3\\lib\\site-packages (from pandas>=0.24.2->mlxtend) (2019.3)\n",
      "Requirement already satisfied: python-dateutil>=2.6.1 in c:\\users\\wtitz\\anaconda3\\lib\\site-packages (from pandas>=0.24.2->mlxtend) (2.8.1)\n",
      "Requirement already satisfied: pyparsing!=2.0.4,!=2.1.2,!=2.1.6,>=2.0.1 in c:\\users\\wtitz\\anaconda3\\lib\\site-packages (from matplotlib>=3.0.0->mlxtend) (2.4.6)\n",
      "Requirement already satisfied: cycler>=0.10 in c:\\users\\wtitz\\anaconda3\\lib\\site-packages (from matplotlib>=3.0.0->mlxtend) (0.10.0)\n",
      "Requirement already satisfied: kiwisolver>=1.0.1 in c:\\users\\wtitz\\anaconda3\\lib\\site-packages (from matplotlib>=3.0.0->mlxtend) (1.1.0)\n",
      "Requirement already satisfied: six>=1.5 in c:\\users\\wtitz\\anaconda3\\lib\\site-packages (from python-dateutil>=2.6.1->pandas>=0.24.2->mlxtend) (1.14.0)\n"
     ]
    }
   ],
   "source": [
    "#to be run only once, code for the installation of a new library\n",
    "!pip install mlxtend"
   ]
  },
  {
   "cell_type": "code",
   "execution_count": 14,
   "metadata": {},
   "outputs": [
    {
     "data": {
      "image/png": "[encoded data removed]",
      "text/plain": [
       "<Figure size 432x288 with 1 Axes>"
      ]
     },
     "metadata": {
      "needs_background": "light"
     },
     "output_type": "display_data"
    }
   ],
   "source": [
    "#plots IMPORTS\n",
    "from mlxtend.plotting import plot_confusion_matrix\n",
    "from matplotlib import pyplot as plt\n",
    "from sklearn.metrics import confusion_matrix, classification_report\n",
    "\n",
    "plot_confusion_matrix(confusion_matrix(y_test, predict), cmap=plt.cm.Blues)\n",
    "plt.show()"
   ]
  },
  {
   "cell_type": "markdown",
   "metadata": {},
   "source": [
    "Vediamo di capire il suo significato, riprendendo l'esempio precedente e tenendo presente che le __predicted label__ rappresentano le previsioni del metodo (1 il paziente è diabetico, 0 non lo è) mentre le __true label__ rappresentano i dati reali presenti nel dataset (1 il paziente è diabetico, 0 non lo è):\n",
    "\n",
    "- veri positivi (true positive, __TP__): 50 pazienti sono stati classificati come diabetici (predicted label = 1) ed effettivamente lo erano (true label = 1)\n",
    "- veri negativi (true negative, __TN__): 123 pazienti sono stati classificati come __non__ diabetici (predicted label = 0) ed effettivamente __non__ lo erano (true label = 0)\n",
    "- falsi negativi (false negative, __FN__): 39 pazienti sono stati classificati come __non__ diabetici (predicted label = 0)  anche se in realtà lo erano (true label = 1)\n",
    "- falsi positivi (false positive, __FP__): 42 pazienti sono stati classificati come diabetici (predicted label = 1) anche se in realtà __non__ lo erano (true label = 0)\n",
    "\n",
    "L'immagine seguente dovrebbe aiutare a capire meglio i vari TP, TN, FN, e FP:\n",
    "\n",
    "<img src=\"Images/cf explained.png\" width=\"700\" align=\"center\"><br>"
   ]
  },
  {
   "cell_type": "markdown",
   "metadata": {},
   "source": [
    "Una volta definito i TP, TN, FN ed FP, possiamo definire anche alcuni indicatori e utilizzarli per capire se il metodo classifica bene il fenomeno o no.\n",
    "\n",
    "__accuracy: the fraction of predictions our model got right__<br>\n",
    "\n",
    "è la percentuale di previsioni (classificazioni) corrette, sia per i casi positivi che per quelli negativi. Nel nostro caso rappresenta, in percentuale, quanti diabetici e non diabetici sono stati individuati (classificati) correttamente dal nostro metodo<br>\n",
    "Vediamo come si calcola:<br>\n",
    "\\begin{equation*}\n",
    "accuracy = \\frac{TP + TN}{TP + TN + FP + FN} = \\frac{50 + 123}{50 + 123 + 42 + 39} = 0,6873\n",
    "\\end{equation*}\n",
    "\n",
    "Questo dato vuol dire che il metodo ha trovato correttamente chi ha il diabete e chi non lo ha nel __68%__ dei casi.\n",
    "\n",
    "In genere è la prima metrica che viene osservata quando si valuta un classificatore. Tuttavia, quando i dati di test non sono bilanciati (quando cioè la maggior parte delle istanze appartengono a una delle classi TP, TN FP o FN) o si è più interessati alle prestazioni in una delle classi (ad esempio TP), l'accuratezza non riesce a dare un'idea dell'efficacia di un classificatore. Pensate per esempio al caso in cui si tratti di trovare i contagiati da Coronavirus in un insieme di persone. Supponiamo di avere un dataset con 1000 osservazioni. Sappiamo che in questo dataset ci sono 3 contagiati e 997 sani. Supponiamo di eseguire il nostro metodo e ottenere i seguenti risultati:\n",
    "\n",
    "TP (il metodo dice che la persona è contagiosa ed effettivamente lo è): 0\n",
    "\n",
    "TN (il metodo dice che la persona non è contagiosa ed effettivamente non lo è): 990\n",
    "\n",
    "FN (il metodo dice che la persona non è contagiosa ma in realtà lo è): 6\n",
    "\n",
    "FP (il metodo dice che la persona è contagiosa ma in realtà non lo è): 4\n",
    "\n",
    "Se calcoliamo l'accuratezza otteniamo:\n",
    "\n",
    "\\begin{equation*}\n",
    "accuracy = \\frac{TP + TN}{TP + TN + FP + FN} = \\frac{0 + 990}{0 + 990 + 4 + 6} = 0,99\n",
    "\\end{equation*}\n",
    "\n",
    "Verrebbe da dire che è un metodo ottimo, perché ha una accuratezza del 99%. In realtà è un metodo che trova molti __non__ contagiati ma non trova neanche __un__ contagiato effettivo (TP = 0), che era invece il motivo per cui abbiamo cercato di utilizzare i metodi del Machine Learning. Per questo motivo è utile calcolare metriche aggiuntive che raccolgano aspetti più specifici della valutazione."
   ]
  },
  {
   "cell_type": "markdown",
   "metadata": {},
   "source": [
    "__precision: what proportion of positive identifications was actually correct?__<br><br>\n",
    "è la percentuale di classificazioni positive corrette, cioè i positivi effettivi (true label = 1, predicted label = 1 ossia TP) rispetto a tutti quelli che il metodo ha classificato come positivi, sia correttamente (true label = 1, predicted label = 1 ossia TP) sia non correttamente (true label = 1, predicted label = 1 ossia FP). In formula:\n",
    "\n",
    "\\begin{equation*}\n",
    "precision = \\frac{TP}{TP + FP} \n",
    "\\end{equation*}\n",
    "\n",
    "Nel nostro caso è il rapporto tra il numero dei pazienti che il modello ha predetto essere diabetici (true label = 1, predicted label = 1) rispetto tutti quelli diagnosticati dal modello come diabetici (in modo corretto e no, predicted label = 1)<br>Vediamo il calcolo:\n",
    "\n",
    "\\begin{equation*}\n",
    "precision = \\frac{TP}{TP + FP} = \\frac{50}{50 + 42} = 0,5435\n",
    "\\end{equation*}\n",
    "\n",
    "Questo vuol dire che il __54%__ di chi è stato diagnosticato (classificato) dal metodo come diabetico lo era effettivamente. La _precision_ è massima quando non ci sono falsi positivi, cioè, nel nostro caso, quando non ci sono pazienti a cui è stato diagnosticato il diabete ma che in realtà non erano diabetici.\n",
    "\n",
    "Calcoliamo ora la _precision_ per l'esempio del Coronavirus:\n",
    "\n",
    "\\begin{equation*}\n",
    "precision = \\frac{TP}{TP + FP} = \\frac{0}{0 + 4} = 0\n",
    "\\end{equation*}\n",
    "\n",
    "Questo risultato ci conferma quanto sapevamo già: questo metodo non è per niente utile nel caso dei contagi."
   ]
  },
  {
   "cell_type": "markdown",
   "metadata": {},
   "source": [
    "__recall: what proportion of actual positives was identified correctly?__\n",
    "\n",
    "è la percentuale di veri positivi identificati correttamente, cioè i veri positivi (true label = 1, predicted label = 1 cioè TP) rispetto a tutti quelli che erano effettivamente positivi nel dataset e che il metodo ha trovato (true label = 1, predicted label = 1 cioè TP) e non ha trovato (true label = 1, predicted label = 0 cioè FN). In formula:\n",
    "\n",
    "\\begin{equation*}\n",
    "recall = \\frac{TP}{TP + FN} \n",
    "\\end{equation*}\n",
    "\n",
    "\n",
    "Nel nostro caso è il rapporto tra il numero dei pazienti che il modello ha predetto essere diabetici (true label = 1, predicted label = 1) rispetto tutti quelli effettivamente diabetici (true label = 1).<br>Vediamo il calcolo:<br>\n",
    "\\begin{equation*}\n",
    "recall = \\frac{TP}{TP + FN} = \\frac{50}{50 + 39} = 0,5618\n",
    "\\end{equation*}\n",
    "\n",
    "Questo vuol dire che il __56%__ dei diabetici presenti nel dataset è stato correttamente identificato (classificato). La _recall_ è massima quando non ci sono falsi negativi, pazienti cioè a cui non è stato diagnosticato il diabete ma che invece erano diabetici.\n",
    "\n",
    "Calcoliamo ora la recall per l'esempio del Coronavirus:\n",
    "\n",
    "\\begin{equation*}\n",
    "precision = \\frac{TP}{TP + FP} = \\frac{0}{0 + 6} = 0\n",
    "\\end{equation*}\n",
    "\n",
    "Questo risultato rafforza quanto sapevamo già: questo metodo non è per niente utile nel caso dei contagi."
   ]
  },
  {
   "cell_type": "markdown",
   "metadata": {},
   "source": [
    "__f1-score: un indicatore riassuntivo__\n",
    "\n",
    "A questo punto possiamo introdurre un indicatore riassuntivo di _precision_ e _recall_ che serve per dare un'indicazione di quanto il nostro metodo sia valido: l'___f1-score___\n",
    "\n",
    "\\begin{equation*}\n",
    "f1-score = 2*\\frac{precision*recall}{precision + recall}\n",
    "\\end{equation*}\n",
    "\n",
    "Questo indicatore è la media armonica di _precision_ e _recall_ e serve per tenere conto dei falsi positivi e dei falsi negativi nella valutazione di un metodo, evitando di considerare i veri negativi. Infatti l'accuratezza può essere molto influenzata da un numero elevato di veri negativi (TN) che nella maggior parte delle applicazioni reali non sono rilevanti (ad esempio non sono particoalrmente interessato a sapere se un paziente non è diabetico), mentre i falsi negativi e i falsi positivi di solito sono importanti (pensate al caso di un diabetico che non viene curato (FN) o al caso di sottoporre a cure costose un paziente che non è diabetico (FP)).\n",
    "\n",
    "_f1-score_ è quindi un misura migliore da usare (rispetto l'_accuracy_) se dobbiamo cercare un equilibrio tra _precision_ e _recall_ nel caso in cui ci sia un numero di TP, TN, FP o FN irregolare.\n",
    "\n",
    "Notare che _f1-score_ è massimo quando _precision_ e _recall_ sono uguali a 1 (cioè quando i falsi negativi e i falsi positivi sono uguali a 0), come si può vedere dal grafico seguente ( _p_ = _precision_ , _r_ = _recall_ ): \n",
    "\n",
    "<img src=\"Images/3d.png\" width=\"300\" align=\"center\"><br>\n",
    "\n",
    "Proviamo ora a calcolare l'_f1-score_ per il nostro caso:\n",
    "\n",
    "\\begin{equation*}\n",
    "f1-score = 2*\\frac{precision*recall}{precision + recall} = 2*\\frac{0,5435*0,5618}{0,5435 + 0,5618} = 0,5525\n",
    "\\end{equation*}\n",
    "\n",
    "Il nostro metodo non si comporta quindi particolarmente bene, visto che l'_f1-score_ massimo è 1. "
   ]
  },
  {
   "cell_type": "markdown",
   "metadata": {},
   "source": [
    "Adesso che abbiamo capito i vari indicatori, stampiamo il report dei vari indicatori:"
   ]
  },
  {
   "cell_type": "code",
   "execution_count": 15,
   "metadata": {},
   "outputs": [
    {
     "name": "stdout",
     "output_type": "stream",
     "text": [
      "              precision    recall  f1-score   support\n",
      "\n",
      "         0.0       0.76      0.75      0.75       165\n",
      "         1.0       0.54      0.56      0.55        89\n",
      "\n",
      "    accuracy                           0.68       254\n",
      "   macro avg       0.65      0.65      0.65       254\n",
      "weighted avg       0.68      0.68      0.68       254\n",
      "\n"
     ]
    }
   ],
   "source": [
    "print(classification_report(y_test, predict))"
   ]
  },
  {
   "cell_type": "markdown",
   "metadata": {},
   "source": [
    "Come possiamo vedere, abbiamo ritrovato i valori precedentemente calcolati per l'_accuracy_ , la _precision_ e la _recall_ (per i pazienti diabetici, target = 1.0). Notare che gli stessi indicatori (tranne l'_accuracy_ che è complessiva) si possono calcolare anche per l'altro caso, cioè per i __non__ diabetici: dalla comparazione dei risultati vediamo che il metodo funziona meglio se dobbiamo trovare chi __non__ è diabetico."
   ]
  },
  {
   "cell_type": "markdown",
   "metadata": {},
   "source": [
    "# Utilizzare il metodo"
   ]
  },
  {
   "cell_type": "markdown",
   "metadata": {},
   "source": [
    "Al di là dei risultati che ci hanno dato i nostri indicatori, supponiamo che il nostro metodo sia un ottimo metodo per valutare (classificare) se una persona è diabetica o no: come fa un medico  ad applicarlo ai dati di un paziente che gli arriva nello studio? Supponiamo per esempio che Maria abbia la seguente situazione"
   ]
  },
  {
   "cell_type": "code",
   "execution_count": 16,
   "metadata": {},
   "outputs": [
    {
     "name": "stdout",
     "output_type": "stream",
     "text": [
      "Requirement already satisfied: tabulate in c:\\users\\wtitz\\anaconda3\\lib\\site-packages (0.8.7)\n"
     ]
    }
   ],
   "source": [
    "!pip install tabulate"
   ]
  },
  {
   "cell_type": "code",
   "execution_count": 17,
   "metadata": {},
   "outputs": [
    {
     "name": "stdout",
     "output_type": "stream",
     "text": [
      "  timespreg    gluctol    diaspb    triceps    insulin    massindex    pedigree    age\n",
      "-----------  ---------  --------  ---------  ---------  -----------  ----------  -----\n",
      "         10         68       106         23         49         35.5       0.285     47\n"
     ]
    }
   ],
   "source": [
    "from tabulate import tabulate\n",
    "\n",
    "info = ['timespreg', 'gluctol', 'diaspb', 'triceps', 'insulin', 'massindex', 'pedigree', 'age'] # nome delle misurazioni\n",
    "Maria= [10., 68., 106., 23., 49., 35.5, 0.285, 47.] # valore delle misurazioni\n",
    "print(tabulate([Maria], headers=info))"
   ]
  },
  {
   "cell_type": "markdown",
   "metadata": {},
   "source": [
    "Proviamo a far girare il nostro metodo con questi dati e vediamo che cosa ci dice:"
   ]
  },
  {
   "cell_type": "code",
   "execution_count": 18,
   "metadata": {},
   "outputs": [
    {
     "data": {
      "text/plain": [
       "array([0.])"
      ]
     },
     "execution_count": 18,
     "metadata": {},
     "output_type": "execute_result"
    }
   ],
   "source": [
    "# previsione per Maria\n",
    "Maria = [[10., 68., 106., 23., 49., 35.5, 0.285, 47.]]\n",
    "predictMaria = neigh.predict(Maria)\n",
    "predictMaria"
   ]
  },
  {
   "cell_type": "markdown",
   "metadata": {},
   "source": [
    "La risposta è 0, cioà il metodo dice che Maria non ha il diabete (cioè, visto che stiamo usando il metodo K-NN, Maria è più 'vicina' a pazienti che non hanno il diabete). Ma vediamo ora che cosa sarebbe successo se Maria avesse un indice relativo all'insulina di 159 invece che 49:"
   ]
  },
  {
   "cell_type": "code",
   "execution_count": 19,
   "metadata": {},
   "outputs": [
    {
     "data": {
      "text/plain": [
       "array([1.])"
      ]
     },
     "execution_count": 19,
     "metadata": {},
     "output_type": "execute_result"
    }
   ],
   "source": [
    "# nuova previsione per Maria\n",
    "Maria = [[10., 68., 106., 23., 159., 35.5, 0.285, 47.]]\n",
    "predictMaria = neigh.predict(Maria)\n",
    "predictMaria"
   ]
  },
  {
   "cell_type": "markdown",
   "metadata": {},
   "source": [
    "La risposta è 1, cioè il metodo dice che Maria, con questi nuovi valori, ha il diabete (cioè è più 'vicina' a pazienti che hanno il diabete)."
   ]
  }
 ],
 "metadata": {
  "kernelspec": {
   "display_name": "Python 3",
   "language": "python",
   "name": "python3"
  },
  "language_info": {
   "codemirror_mode": {
    "name": "ipython",
    "version": 3
   },
   "file_extension": ".py",
   "mimetype": "text/x-python",
   "name": "python",
   "nbconvert_exporter": "python",
   "pygments_lexer": "ipython3",
   "version": "3.7.6"
  },
  "toc": {
   "base_numbering": 1,
   "nav_menu": {},
   "number_sections": true,
   "sideBar": true,
   "skip_h1_title": false,
   "title_cell": "Table of Contents",
   "title_sidebar": "Contents",
   "toc_cell": false,
   "toc_position": {},
   "toc_section_display": true,
   "toc_window_display": false
  }
 },
 "nbformat": 4,
 "nbformat_minor": 2
}
